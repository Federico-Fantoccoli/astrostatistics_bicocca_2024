{
 "cells": [
  {
   "cell_type": "markdown",
   "id": "cc6cf5eb-f9a7-40c5-8bf9-3695ee2a1ae2",
   "metadata": {},
   "source": [
    "# Quasars and Tensorflow"
   ]
  },
  {
   "cell_type": "markdown",
   "id": "6baff355-31c3-443e-be21-4f9993fe5948",
   "metadata": {},
   "source": [
    "## Time to get your hands dirty. Galaxies vs quasars with neural networks.\n",
    "\n",
    "Let's go back to our galaxy vs quasar data we've used in a previous exercise. \n",
    "\n",
    "1. Read in SDSS galaxy color data from `solutions/galaxyquasar.csv`. Create arrays for the $(u-g)$, $(g-r)$, $(r-i)$, and $(i-z)$ colors. Also create an array with the class labels where galaxy=$0$ and quasar=$1$. \n",
    "\n",
    "2. Now we're going to fit a neural network classifier. First, scale your data appropriately and do a 30% train/test split.\n",
    "\n",
    "3. Now train the classifier. Use one the package among those we've seen. These include Tensorflow via keras, pytorch, and the [multilayer perceptron classifier](sklearn.neural_network.MLPClassifier) implemented in scikit-learn. My solution uses the latter, but this is an opportunity to pick the one you're most interested in learning. \n",
    "\n",
    "3. Start from a network architecture with a single hidden layer with 5 neurons, using the `adam` solver, the `relu` activation function, and a learninig rate of `0.001`. Plot the resulting ROC curve. \n",
    "\n",
    "4. Now let's optimize the hyperparameters of your network. Explore different hyperparameters and see what fits the data best.  Do your best now to optimize the network architecture. Be creative!\n",
    "\n",
    "5. Is your best result comparable with the simpler classifiers we've seen before? Do we need deep learning here? If yes, which features are captured best?\n",
    "\n",
    "\n",
    "A few tips:\n",
    "\n",
    "- In scikit-learn, remember that you can utilize all availables cores on your machine with `n_jobs=-1`. Print out the classification score for the training data, and the best parameters obtained by the cross validation.\n",
    "- If it takes too long, run the hyperparameter optimization on a subset of the training set. Then retrain the full network using the best hyperparameters only.\n",
    "- On cross validation, for scikit learn we've seen how to use `GridSearchCV` already. For Tensorflow, there's a really cool tool called [Tensorboard](https://www.tensorflow.org/tensorboard)"
   ]
  },
  {
   "cell_type": "code",
   "execution_count": 1,
   "id": "3b053b9e-d456-4571-bd04-404794e2d706",
   "metadata": {},
   "outputs": [],
   "source": [
    "import numpy as np\n",
    "import matplotlib.pyplot as plt\n",
    "import scipy.stats as sp\n",
    "import corner\n",
    "import os\n",
    "import numpy as np\n",
    "import pandas as pd\n",
    "import sklearn.metrics as skm\n",
    "import seaborn as sns\n",
    "import tensorflow as tf\n",
    "\n",
    "from sklearn.preprocessing import LabelEncoder\n",
    "from sklearn.model_selection import train_test_split\n",
    "from sklearn.preprocessing import StandardScaler\n",
    "from tensorflow import keras\n",
    "from tensorboard.plugins.hparams import api as hp\n",
    "from astroML.utils import completeness_contamination\n"
   ]
  },
  {
   "cell_type": "code",
   "execution_count": 2,
   "id": "cc8559f5-bb6f-4164-87d9-0692b13882b3",
   "metadata": {},
   "outputs": [
    {
     "name": "stdout",
     "output_type": "stream",
     "text": [
      "[1 0 0 ... 0 0 0]\n",
      "['QSO' 'GALAXY' 'GALAXY' ... 'GALAXY' 'GALAXY' 'GALAXY']\n"
     ]
    }
   ],
   "source": [
    "GAL_COLORS_NAMES = ['u', 'g', 'r', 'i', 'z', 'class', 'z1', 'zerr']\n",
    "\n",
    "data_pd = pd.read_csv('galaxyquasar.csv')\n",
    "\n",
    "# Taking the colors from the data\n",
    "col_ug = np.array( data_pd.get(GAL_COLORS_NAMES[0]) - data_pd.get(GAL_COLORS_NAMES[1]))\n",
    "col_gr = np.array( data_pd.get(GAL_COLORS_NAMES[1]) - data_pd.get(GAL_COLORS_NAMES[2]))\n",
    "col_ri = np.array( data_pd.get(GAL_COLORS_NAMES[2]) - data_pd.get(GAL_COLORS_NAMES[3]))\n",
    "col_iz = np.array( data_pd.get(GAL_COLORS_NAMES[3]) - data_pd.get(GAL_COLORS_NAMES[4]))\n",
    "\n",
    "# Encoding the classes in the dataset:\n",
    "# Put some integer numbers as labels\n",
    "le = LabelEncoder()\n",
    "\n",
    "#print(data_pd['class'])\n",
    "\n",
    "classes = le.fit_transform(data_pd['class'])\n",
    "labels = le.inverse_transform(classes)\n",
    "class_names = le.classes_\n",
    "#print(class_names)\n",
    "\n",
    "print(classes)\n",
    "print(labels)\n",
    "#print(np.shape(labels))"
   ]
  },
  {
   "cell_type": "markdown",
   "id": "b9f078a5-9a53-4bd5-9dfc-9ac96c7ce15c",
   "metadata": {},
   "source": [
    "Now I split the data in training, validation and test set"
   ]
  },
  {
   "cell_type": "code",
   "execution_count": 3,
   "id": "b55821e6-57ce-4b41-9464-f1ab11855814",
   "metadata": {},
   "outputs": [
    {
     "name": "stdout",
     "output_type": "stream",
     "text": [
      "(4, 50000)\n",
      "(50000, 4)\n",
      "(28000, 4)\n"
     ]
    }
   ],
   "source": [
    "colors_label = ['u-g', 'g-r', 'r-i', 'i-z']\n",
    "\n",
    "# (4, N) 4 features and N data array\n",
    "full_colors = np.array([col_ug, col_gr, col_ri, col_iz])\n",
    "print(np.shape(full_colors))\n",
    "\n",
    "# Convert the array in (N_samples, N_features)\n",
    "full_colors = full_colors.T\n",
    "print(np.shape(full_colors))\n",
    "\n",
    "scaler = StandardScaler()\n",
    "full_colors = scaler.fit_transform(full_colors)\n",
    "\n",
    "# Splitting the data for machine learning:\n",
    "# The point is that for each color I have the same label classification\n",
    "X_train, x_test, Y_train, y_test  = train_test_split(full_colors, classes, test_size = 0.3, random_state = 7)\n",
    "x_train, x_val, y_train, y_val = train_test_split(X_train, Y_train, test_size = 0.2, random_state = 7)\n",
    "# I have a training set and a test set for each feature\n",
    "print(np.shape(x_train))\n"
   ]
  },
  {
   "cell_type": "markdown",
   "id": "e4d49f79-35c4-41ab-965a-4814f1105b8a",
   "metadata": {},
   "source": [
    "### First model (No optimization)"
   ]
  },
  {
   "cell_type": "markdown",
   "id": "73ceeb20-f9fe-43c1-b90a-90d1482be8ed",
   "metadata": {},
   "source": [
    "As first step, I try with a simple model with just 1 layer, adam solver, the relu activation function, and a learninig rate of 0.001. "
   ]
  },
  {
   "cell_type": "code",
   "execution_count": 4,
   "id": "0a370b98-f506-46b3-ad40-c7f1c3d26edb",
   "metadata": {},
   "outputs": [],
   "source": [
    "def create_model():\n",
    "  return tf.keras.models.Sequential([\n",
    "    tf.keras.layers.InputLayer(shape = (x_train.shape[-1],), name = 'layers_flatten'),\n",
    "    tf.keras.layers.Dense(1, activation = 'relu', name = 'layers_dense'),\n",
    "    tf.keras.layers.Dropout(0.2, name = 'layers_dropout'),\n",
    "    tf.keras.layers.Dense(1, activation = 'relu', name = 'layers_out')\n",
    "    ])\n",
    "\n",
    "optimizer = tf.keras.optimizers.Adam(learning_rate = 0.001)\n",
    "model = create_model()\n",
    "model.compile(optimizer = optimizer,\n",
    "              loss = keras.losses.BinaryCrossentropy(),\n",
    "              metrics = ['accuracy'])"
   ]
  },
  {
   "cell_type": "code",
   "execution_count": 5,
   "id": "11f6cc2b-30ea-4a34-b9c5-538cf2af92e5",
   "metadata": {},
   "outputs": [
    {
     "data": {
      "text/html": [
       "<pre style=\"white-space:pre;overflow-x:auto;line-height:normal;font-family:Menlo,'DejaVu Sans Mono',consolas,'Courier New',monospace\"><span style=\"font-weight: bold\">Model: \"sequential\"</span>\n",
       "</pre>\n"
      ],
      "text/plain": [
       "\u001b[1mModel: \"sequential\"\u001b[0m\n"
      ]
     },
     "metadata": {},
     "output_type": "display_data"
    },
    {
     "data": {
      "text/html": [
       "<pre style=\"white-space:pre;overflow-x:auto;line-height:normal;font-family:Menlo,'DejaVu Sans Mono',consolas,'Courier New',monospace\">┏━━━━━━━━━━━━━━━━━━━━━━━━━━━━━━━━━┳━━━━━━━━━━━━━━━━━━━━━━━━┳━━━━━━━━━━━━━━━┓\n",
       "┃<span style=\"font-weight: bold\"> Layer (type)                    </span>┃<span style=\"font-weight: bold\"> Output Shape           </span>┃<span style=\"font-weight: bold\">       Param # </span>┃\n",
       "┡━━━━━━━━━━━━━━━━━━━━━━━━━━━━━━━━━╇━━━━━━━━━━━━━━━━━━━━━━━━╇━━━━━━━━━━━━━━━┩\n",
       "│ layers_dense (<span style=\"color: #0087ff; text-decoration-color: #0087ff\">Dense</span>)            │ (<span style=\"color: #00d7ff; text-decoration-color: #00d7ff\">None</span>, <span style=\"color: #00af00; text-decoration-color: #00af00\">1</span>)              │             <span style=\"color: #00af00; text-decoration-color: #00af00\">5</span> │\n",
       "├─────────────────────────────────┼────────────────────────┼───────────────┤\n",
       "│ layers_dropout (<span style=\"color: #0087ff; text-decoration-color: #0087ff\">Dropout</span>)        │ (<span style=\"color: #00d7ff; text-decoration-color: #00d7ff\">None</span>, <span style=\"color: #00af00; text-decoration-color: #00af00\">1</span>)              │             <span style=\"color: #00af00; text-decoration-color: #00af00\">0</span> │\n",
       "├─────────────────────────────────┼────────────────────────┼───────────────┤\n",
       "│ layers_out (<span style=\"color: #0087ff; text-decoration-color: #0087ff\">Dense</span>)              │ (<span style=\"color: #00d7ff; text-decoration-color: #00d7ff\">None</span>, <span style=\"color: #00af00; text-decoration-color: #00af00\">1</span>)              │             <span style=\"color: #00af00; text-decoration-color: #00af00\">2</span> │\n",
       "└─────────────────────────────────┴────────────────────────┴───────────────┘\n",
       "</pre>\n"
      ],
      "text/plain": [
       "┏━━━━━━━━━━━━━━━━━━━━━━━━━━━━━━━━━┳━━━━━━━━━━━━━━━━━━━━━━━━┳━━━━━━━━━━━━━━━┓\n",
       "┃\u001b[1m \u001b[0m\u001b[1mLayer (type)                   \u001b[0m\u001b[1m \u001b[0m┃\u001b[1m \u001b[0m\u001b[1mOutput Shape          \u001b[0m\u001b[1m \u001b[0m┃\u001b[1m \u001b[0m\u001b[1m      Param #\u001b[0m\u001b[1m \u001b[0m┃\n",
       "┡━━━━━━━━━━━━━━━━━━━━━━━━━━━━━━━━━╇━━━━━━━━━━━━━━━━━━━━━━━━╇━━━━━━━━━━━━━━━┩\n",
       "│ layers_dense (\u001b[38;5;33mDense\u001b[0m)            │ (\u001b[38;5;45mNone\u001b[0m, \u001b[38;5;34m1\u001b[0m)              │             \u001b[38;5;34m5\u001b[0m │\n",
       "├─────────────────────────────────┼────────────────────────┼───────────────┤\n",
       "│ layers_dropout (\u001b[38;5;33mDropout\u001b[0m)        │ (\u001b[38;5;45mNone\u001b[0m, \u001b[38;5;34m1\u001b[0m)              │             \u001b[38;5;34m0\u001b[0m │\n",
       "├─────────────────────────────────┼────────────────────────┼───────────────┤\n",
       "│ layers_out (\u001b[38;5;33mDense\u001b[0m)              │ (\u001b[38;5;45mNone\u001b[0m, \u001b[38;5;34m1\u001b[0m)              │             \u001b[38;5;34m2\u001b[0m │\n",
       "└─────────────────────────────────┴────────────────────────┴───────────────┘\n"
      ]
     },
     "metadata": {},
     "output_type": "display_data"
    },
    {
     "data": {
      "text/html": [
       "<pre style=\"white-space:pre;overflow-x:auto;line-height:normal;font-family:Menlo,'DejaVu Sans Mono',consolas,'Courier New',monospace\"><span style=\"font-weight: bold\"> Total params: </span><span style=\"color: #00af00; text-decoration-color: #00af00\">7</span> (28.00 B)\n",
       "</pre>\n"
      ],
      "text/plain": [
       "\u001b[1m Total params: \u001b[0m\u001b[38;5;34m7\u001b[0m (28.00 B)\n"
      ]
     },
     "metadata": {},
     "output_type": "display_data"
    },
    {
     "data": {
      "text/html": [
       "<pre style=\"white-space:pre;overflow-x:auto;line-height:normal;font-family:Menlo,'DejaVu Sans Mono',consolas,'Courier New',monospace\"><span style=\"font-weight: bold\"> Trainable params: </span><span style=\"color: #00af00; text-decoration-color: #00af00\">7</span> (28.00 B)\n",
       "</pre>\n"
      ],
      "text/plain": [
       "\u001b[1m Trainable params: \u001b[0m\u001b[38;5;34m7\u001b[0m (28.00 B)\n"
      ]
     },
     "metadata": {},
     "output_type": "display_data"
    },
    {
     "data": {
      "text/html": [
       "<pre style=\"white-space:pre;overflow-x:auto;line-height:normal;font-family:Menlo,'DejaVu Sans Mono',consolas,'Courier New',monospace\"><span style=\"font-weight: bold\"> Non-trainable params: </span><span style=\"color: #00af00; text-decoration-color: #00af00\">0</span> (0.00 B)\n",
       "</pre>\n"
      ],
      "text/plain": [
       "\u001b[1m Non-trainable params: \u001b[0m\u001b[38;5;34m0\u001b[0m (0.00 B)\n"
      ]
     },
     "metadata": {},
     "output_type": "display_data"
    }
   ],
   "source": [
    "model.summary()"
   ]
  },
  {
   "cell_type": "code",
   "execution_count": 6,
   "id": "d099e6e5-e22a-4bd2-ac01-86429aa559d2",
   "metadata": {
    "scrolled": true
   },
   "outputs": [
    {
     "name": "stdout",
     "output_type": "stream",
     "text": [
      "Epoch 1/20\n",
      "\u001b[1m875/875\u001b[0m \u001b[32m━━━━━━━━━━━━━━━━━━━━\u001b[0m\u001b[37m\u001b[0m \u001b[1m1s\u001b[0m 460us/step - accuracy: 0.8593 - loss: 2.2672 - val_accuracy: 0.8643 - val_loss: 2.1875\n",
      "Epoch 2/20\n",
      "\u001b[1m875/875\u001b[0m \u001b[32m━━━━━━━━━━━━━━━━━━━━\u001b[0m\u001b[37m\u001b[0m \u001b[1m0s\u001b[0m 372us/step - accuracy: 0.8567 - loss: 2.3092 - val_accuracy: 0.8643 - val_loss: 2.1875\n",
      "Epoch 3/20\n",
      "\u001b[1m875/875\u001b[0m \u001b[32m━━━━━━━━━━━━━━━━━━━━\u001b[0m\u001b[37m\u001b[0m \u001b[1m0s\u001b[0m 363us/step - accuracy: 0.8540 - loss: 2.3534 - val_accuracy: 0.8643 - val_loss: 2.1875\n",
      "Epoch 4/20\n",
      "\u001b[1m875/875\u001b[0m \u001b[32m━━━━━━━━━━━━━━━━━━━━\u001b[0m\u001b[37m\u001b[0m \u001b[1m0s\u001b[0m 363us/step - accuracy: 0.8582 - loss: 2.2860 - val_accuracy: 0.8643 - val_loss: 2.1875\n",
      "Epoch 5/20\n",
      "\u001b[1m875/875\u001b[0m \u001b[32m━━━━━━━━━━━━━━━━━━━━\u001b[0m\u001b[37m\u001b[0m \u001b[1m0s\u001b[0m 363us/step - accuracy: 0.8552 - loss: 2.3332 - val_accuracy: 0.8643 - val_loss: 2.1875\n",
      "Epoch 6/20\n",
      "\u001b[1m875/875\u001b[0m \u001b[32m━━━━━━━━━━━━━━━━━━━━\u001b[0m\u001b[37m\u001b[0m \u001b[1m0s\u001b[0m 373us/step - accuracy: 0.8580 - loss: 2.2883 - val_accuracy: 0.8643 - val_loss: 2.1875\n",
      "Epoch 7/20\n",
      "\u001b[1m875/875\u001b[0m \u001b[32m━━━━━━━━━━━━━━━━━━━━\u001b[0m\u001b[37m\u001b[0m \u001b[1m0s\u001b[0m 372us/step - accuracy: 0.8532 - loss: 2.3669 - val_accuracy: 0.8643 - val_loss: 2.1875\n",
      "Epoch 8/20\n",
      "\u001b[1m875/875\u001b[0m \u001b[32m━━━━━━━━━━━━━━━━━━━━\u001b[0m\u001b[37m\u001b[0m \u001b[1m0s\u001b[0m 368us/step - accuracy: 0.8555 - loss: 2.3294 - val_accuracy: 0.8643 - val_loss: 2.1875\n",
      "Epoch 9/20\n",
      "\u001b[1m875/875\u001b[0m \u001b[32m━━━━━━━━━━━━━━━━━━━━\u001b[0m\u001b[37m\u001b[0m \u001b[1m0s\u001b[0m 367us/step - accuracy: 0.8577 - loss: 2.2935 - val_accuracy: 0.8643 - val_loss: 2.1875\n",
      "Epoch 10/20\n",
      "\u001b[1m875/875\u001b[0m \u001b[32m━━━━━━━━━━━━━━━━━━━━\u001b[0m\u001b[37m\u001b[0m \u001b[1m0s\u001b[0m 365us/step - accuracy: 0.8552 - loss: 2.3346 - val_accuracy: 0.8643 - val_loss: 2.1875\n",
      "Epoch 11/20\n",
      "\u001b[1m875/875\u001b[0m \u001b[32m━━━━━━━━━━━━━━━━━━━━\u001b[0m\u001b[37m\u001b[0m \u001b[1m0s\u001b[0m 366us/step - accuracy: 0.8543 - loss: 2.3485 - val_accuracy: 0.8643 - val_loss: 2.1875\n",
      "Epoch 12/20\n",
      "\u001b[1m875/875\u001b[0m \u001b[32m━━━━━━━━━━━━━━━━━━━━\u001b[0m\u001b[37m\u001b[0m \u001b[1m0s\u001b[0m 388us/step - accuracy: 0.8552 - loss: 2.3345 - val_accuracy: 0.8643 - val_loss: 2.1875\n",
      "Epoch 13/20\n",
      "\u001b[1m875/875\u001b[0m \u001b[32m━━━━━━━━━━━━━━━━━━━━\u001b[0m\u001b[37m\u001b[0m \u001b[1m0s\u001b[0m 361us/step - accuracy: 0.8523 - loss: 2.3802 - val_accuracy: 0.8643 - val_loss: 2.1875\n",
      "Epoch 14/20\n",
      "\u001b[1m875/875\u001b[0m \u001b[32m━━━━━━━━━━━━━━━━━━━━\u001b[0m\u001b[37m\u001b[0m \u001b[1m0s\u001b[0m 364us/step - accuracy: 0.8575 - loss: 2.2962 - val_accuracy: 0.8643 - val_loss: 2.1875\n",
      "Epoch 15/20\n",
      "\u001b[1m875/875\u001b[0m \u001b[32m━━━━━━━━━━━━━━━━━━━━\u001b[0m\u001b[37m\u001b[0m \u001b[1m0s\u001b[0m 364us/step - accuracy: 0.8554 - loss: 2.3305 - val_accuracy: 0.8643 - val_loss: 2.1875\n",
      "Epoch 16/20\n",
      "\u001b[1m875/875\u001b[0m \u001b[32m━━━━━━━━━━━━━━━━━━━━\u001b[0m\u001b[37m\u001b[0m \u001b[1m0s\u001b[0m 364us/step - accuracy: 0.8551 - loss: 2.3358 - val_accuracy: 0.8643 - val_loss: 2.1875\n",
      "Epoch 17/20\n",
      "\u001b[1m875/875\u001b[0m \u001b[32m━━━━━━━━━━━━━━━━━━━━\u001b[0m\u001b[37m\u001b[0m \u001b[1m0s\u001b[0m 367us/step - accuracy: 0.8577 - loss: 2.2938 - val_accuracy: 0.8643 - val_loss: 2.1875\n",
      "Epoch 18/20\n",
      "\u001b[1m875/875\u001b[0m \u001b[32m━━━━━━━━━━━━━━━━━━━━\u001b[0m\u001b[37m\u001b[0m \u001b[1m0s\u001b[0m 366us/step - accuracy: 0.8556 - loss: 2.3277 - val_accuracy: 0.8643 - val_loss: 2.1875\n",
      "Epoch 19/20\n",
      "\u001b[1m875/875\u001b[0m \u001b[32m━━━━━━━━━━━━━━━━━━━━\u001b[0m\u001b[37m\u001b[0m \u001b[1m0s\u001b[0m 372us/step - accuracy: 0.8559 - loss: 2.3220 - val_accuracy: 0.8643 - val_loss: 2.1875\n",
      "Epoch 20/20\n",
      "\u001b[1m875/875\u001b[0m \u001b[32m━━━━━━━━━━━━━━━━━━━━\u001b[0m\u001b[37m\u001b[0m \u001b[1m0s\u001b[0m 386us/step - accuracy: 0.8570 - loss: 2.3041 - val_accuracy: 0.8643 - val_loss: 2.1875\n"
     ]
    },
    {
     "data": {
      "text/plain": [
       "<keras.src.callbacks.history.History at 0x16af4e000>"
      ]
     },
     "execution_count": 6,
     "metadata": {},
     "output_type": "execute_result"
    }
   ],
   "source": [
    "model.fit(x=x_train, \n",
    "          y=y_train, \n",
    "          epochs=20, \n",
    "          validation_data=(x_val, y_val)\n",
    "         )"
   ]
  },
  {
   "cell_type": "code",
   "execution_count": 7,
   "id": "1491952d-b161-458e-a795-bc1a19fc0a79",
   "metadata": {},
   "outputs": [
    {
     "name": "stdout",
     "output_type": "stream",
     "text": [
      "\u001b[1m469/469\u001b[0m \u001b[32m━━━━━━━━━━━━━━━━━━━━\u001b[0m\u001b[37m\u001b[0m \u001b[1m0s\u001b[0m 268us/step\n",
      "\u001b[1m469/469\u001b[0m \u001b[32m━━━━━━━━━━━━━━━━━━━━\u001b[0m\u001b[37m\u001b[0m \u001b[1m0s\u001b[0m 246us/step - accuracy: 0.8582 - loss: 2.2852\n"
     ]
    },
    {
     "data": {
      "text/plain": [
       "Text(0, 0.5, 'Ture positive rate')"
      ]
     },
     "execution_count": 7,
     "metadata": {},
     "output_type": "execute_result"
    },
    {
     "data": {
      "image/png": "[encoded data removed]",
      "text/plain": [
       "<Figure size 640x480 with 1 Axes>"
      ]
     },
     "metadata": {},
     "output_type": "display_data"
    }
   ],
   "source": [
    "y_pred = model.predict(x_test)\n",
    "test = model.evaluate(x_test, y_test)\n",
    "fpr, tpr, threshold = skm.roc_curve(y_test, y_pred)\n",
    "\n",
    "plt.plot(fpr, tpr)\n",
    "plt.title('ROC curve')\n",
    "plt.xlabel('False positive rate')\n",
    "plt.ylabel('Ture positive rate')"
   ]
  },
  {
   "cell_type": "markdown",
   "id": "c82115d7-c8fa-4095-a1b2-b16b75ccce8f",
   "metadata": {},
   "source": [
    "### Parameter optimization\n",
    "\n",
    "Now I try to optimize some parameters of the network: the number of neurons, the dropout probability and the optimizer"
   ]
  },
  {
   "cell_type": "code",
   "execution_count": 8,
   "id": "80390a6c-6b35-47b8-bf6a-5814aa22a44d",
   "metadata": {},
   "outputs": [],
   "source": [
    "%load_ext tensorboard"
   ]
  },
  {
   "cell_type": "code",
   "execution_count": 9,
   "id": "4ae04b31-52fd-4371-8dd0-03ae76eda3d7",
   "metadata": {},
   "outputs": [],
   "source": [
    "HP_NUM_UNITS = hp.HParam('num_units', hp.Discrete([1, 5, 10, 15, 20]))\n",
    "HP_DROPOUT = hp.HParam('dropout', hp.Discrete([0.1, 0.2, 0.5]))\n",
    "HP_OPTIMIZER = hp.HParam('optimizer', hp.Discrete(['adam', 'sgd']))\n",
    "\n",
    "METRIC_ACCURACY = 'accuracy'\n",
    "\n",
    "with tf.summary.create_file_writer('logs/hparam_tuning').as_default():\n",
    "  hp.hparams_config(\n",
    "    hparams=[HP_NUM_UNITS, HP_DROPOUT, HP_OPTIMIZER],\n",
    "    metrics=[hp.Metric(METRIC_ACCURACY, display_name='Accuracy')],\n",
    "  )"
   ]
  },
  {
   "cell_type": "code",
   "execution_count": 10,
   "id": "41dfc379-017a-422f-9561-3a6589959055",
   "metadata": {},
   "outputs": [],
   "source": [
    "def train_test_model(hparams):\n",
    "    \n",
    "  model = tf.keras.models.Sequential([\n",
    "    tf.keras.layers.InputLayer(input_shape = (x_train.shape[-1],)),\n",
    "    tf.keras.layers.Dense(hparams[HP_NUM_UNITS], activation = 'relu'),\n",
    "    tf.keras.layers.Dropout(hparams[HP_DROPOUT]),\n",
    "    tf.keras.layers.Dense(1, activation = 'relu'),\n",
    "  ])\n",
    "    \n",
    "  model.compile(\n",
    "      optimizer = hparams[HP_OPTIMIZER],\n",
    "      loss = keras.losses.BinaryCrossentropy(),\n",
    "      metrics = ['accuracy'],\n",
    "  )\n",
    "\n",
    "  model.fit(x_train, y_train, epochs = 5) \n",
    "  _, accuracy = model.evaluate(x_val, y_val)\n",
    "  return accuracy"
   ]
  },
  {
   "cell_type": "code",
   "execution_count": 11,
   "id": "15a073f0-c687-47c8-812b-572669ec1612",
   "metadata": {},
   "outputs": [],
   "source": [
    "def run(run_dir, hparams):\n",
    "    \n",
    "  with tf.summary.create_file_writer(run_dir).as_default():\n",
    "    hp.hparams(hparams)  # record the values used in this trial\n",
    "    accuracy = train_test_model(hparams)\n",
    "    tf.summary.scalar(METRIC_ACCURACY, accuracy, step = 1)"
   ]
  },
  {
   "cell_type": "code",
   "execution_count": 12,
   "id": "773cafd9-32da-40be-ae9d-891bb1bf7a47",
   "metadata": {},
   "outputs": [
    {
     "name": "stdout",
     "output_type": "stream",
     "text": [
      "--- Starting trial: run-0\n",
      "{'num_units': 1, 'dropout': 0.1, 'optimizer': 'adam'}\n",
      "Epoch 1/5\n"
     ]
    },
    {
     "name": "stderr",
     "output_type": "stream",
     "text": [
      "/Users/federicofantoccoli/anaconda3/lib/python3.12/site-packages/keras/src/layers/core/input_layer.py:26: UserWarning: Argument `input_shape` is deprecated. Use `shape` instead.\n",
      "  warnings.warn(\n"
     ]
    },
    {
     "name": "stdout",
     "output_type": "stream",
     "text": [
      "\u001b[1m875/875\u001b[0m \u001b[32m━━━━━━━━━━━━━━━━━━━━\u001b[0m\u001b[37m\u001b[0m \u001b[1m1s\u001b[0m 300us/step - accuracy: 0.8128 - loss: 1.8833\n",
      "Epoch 2/5\n",
      "\u001b[1m875/875\u001b[0m \u001b[32m━━━━━━━━━━━━━━━━━━━━\u001b[0m\u001b[37m\u001b[0m \u001b[1m0s\u001b[0m 303us/step - accuracy: 0.8542 - loss: 1.5657\n",
      "Epoch 3/5\n",
      "\u001b[1m875/875\u001b[0m \u001b[32m━━━━━━━━━━━━━━━━━━━━\u001b[0m\u001b[37m\u001b[0m \u001b[1m0s\u001b[0m 311us/step - accuracy: 0.8719 - loss: 1.5338\n",
      "Epoch 4/5\n",
      "\u001b[1m875/875\u001b[0m \u001b[32m━━━━━━━━━━━━━━━━━━━━\u001b[0m\u001b[37m\u001b[0m \u001b[1m0s\u001b[0m 307us/step - accuracy: 0.8743 - loss: 1.3602\n",
      "Epoch 5/5\n",
      "\u001b[1m875/875\u001b[0m \u001b[32m━━━━━━━━━━━━━━━━━━━━\u001b[0m\u001b[37m\u001b[0m \u001b[1m0s\u001b[0m 316us/step - accuracy: 0.8748 - loss: 1.3833\n",
      "\u001b[1m219/219\u001b[0m \u001b[32m━━━━━━━━━━━━━━━━━━━━\u001b[0m\u001b[37m\u001b[0m \u001b[1m0s\u001b[0m 277us/step - accuracy: 0.8889 - loss: 1.1888\n",
      "--- Starting trial: run-1\n",
      "{'num_units': 1, 'dropout': 0.1, 'optimizer': 'sgd'}\n",
      "Epoch 1/5\n",
      "\u001b[1m875/875\u001b[0m \u001b[32m━━━━━━━━━━━━━━━━━━━━\u001b[0m\u001b[37m\u001b[0m \u001b[1m0s\u001b[0m 284us/step - accuracy: 0.8570 - loss: 2.3053\n",
      "Epoch 2/5\n",
      "\u001b[1m875/875\u001b[0m \u001b[32m━━━━━━━━━━━━━━━━━━━━\u001b[0m\u001b[37m\u001b[0m \u001b[1m0s\u001b[0m 260us/step - accuracy: 0.8551 - loss: 2.3355\n",
      "Epoch 3/5\n",
      "\u001b[1m875/875\u001b[0m \u001b[32m━━━━━━━━━━━━━━━━━━━━\u001b[0m\u001b[37m\u001b[0m \u001b[1m0s\u001b[0m 261us/step - accuracy: 0.8580 - loss: 2.2884\n",
      "Epoch 4/5\n",
      "\u001b[1m875/875\u001b[0m \u001b[32m━━━━━━━━━━━━━━━━━━━━\u001b[0m\u001b[37m\u001b[0m \u001b[1m0s\u001b[0m 270us/step - accuracy: 0.8567 - loss: 2.3100\n",
      "Epoch 5/5\n",
      "\u001b[1m875/875\u001b[0m \u001b[32m━━━━━━━━━━━━━━━━━━━━\u001b[0m\u001b[37m\u001b[0m \u001b[1m0s\u001b[0m 267us/step - accuracy: 0.8594 - loss: 2.2655\n",
      "\u001b[1m219/219\u001b[0m \u001b[32m━━━━━━━━━━━━━━━━━━━━\u001b[0m\u001b[37m\u001b[0m \u001b[1m0s\u001b[0m 268us/step - accuracy: 0.8687 - loss: 2.1163\n",
      "--- Starting trial: run-2\n",
      "{'num_units': 1, 'dropout': 0.2, 'optimizer': 'adam'}\n",
      "Epoch 1/5\n",
      "\u001b[1m875/875\u001b[0m \u001b[32m━━━━━━━━━━━━━━━━━━━━\u001b[0m\u001b[37m\u001b[0m \u001b[1m1s\u001b[0m 302us/step - accuracy: 0.8547 - loss: 2.3418\n",
      "Epoch 2/5\n",
      "\u001b[1m875/875\u001b[0m \u001b[32m━━━━━━━━━━━━━━━━━━━━\u001b[0m\u001b[37m\u001b[0m \u001b[1m0s\u001b[0m 293us/step - accuracy: 0.8559 - loss: 2.3222\n",
      "Epoch 3/5\n",
      "\u001b[1m875/875\u001b[0m \u001b[32m━━━━━━━━━━━━━━━━━━━━\u001b[0m\u001b[37m\u001b[0m \u001b[1m0s\u001b[0m 300us/step - accuracy: 0.8536 - loss: 2.3598\n",
      "Epoch 4/5\n",
      "\u001b[1m875/875\u001b[0m \u001b[32m━━━━━━━━━━━━━━━━━━━━\u001b[0m\u001b[37m\u001b[0m \u001b[1m0s\u001b[0m 295us/step - accuracy: 0.8558 - loss: 2.3240\n",
      "Epoch 5/5\n",
      "\u001b[1m875/875\u001b[0m \u001b[32m━━━━━━━━━━━━━━━━━━━━\u001b[0m\u001b[37m\u001b[0m \u001b[1m0s\u001b[0m 295us/step - accuracy: 0.8574 - loss: 2.2991\n",
      "\u001b[1m219/219\u001b[0m \u001b[32m━━━━━━━━━━━━━━━━━━━━\u001b[0m\u001b[37m\u001b[0m \u001b[1m0s\u001b[0m 286us/step - accuracy: 0.8687 - loss: 2.1163\n",
      "--- Starting trial: run-3\n",
      "{'num_units': 1, 'dropout': 0.2, 'optimizer': 'sgd'}\n",
      "Epoch 1/5\n",
      "\u001b[1m875/875\u001b[0m \u001b[32m━━━━━━━━━━━━━━━━━━━━\u001b[0m\u001b[37m\u001b[0m \u001b[1m0s\u001b[0m 274us/step - accuracy: 0.8638 - loss: 1.8644\n",
      "Epoch 2/5\n",
      "\u001b[1m875/875\u001b[0m \u001b[32m━━━━━━━━━━━━━━━━━━━━\u001b[0m\u001b[37m\u001b[0m \u001b[1m0s\u001b[0m 262us/step - accuracy: 0.9530 - loss: 0.6232\n",
      "Epoch 3/5\n",
      "\u001b[1m875/875\u001b[0m \u001b[32m━━━━━━━━━━━━━━━━━━━━\u001b[0m\u001b[37m\u001b[0m \u001b[1m0s\u001b[0m 261us/step - accuracy: 0.9574 - loss: 0.5715\n",
      "Epoch 4/5\n",
      "\u001b[1m875/875\u001b[0m \u001b[32m━━━━━━━━━━━━━━━━━━━━\u001b[0m\u001b[37m\u001b[0m \u001b[1m0s\u001b[0m 267us/step - accuracy: 0.9570 - loss: 0.5943\n",
      "Epoch 5/5\n",
      "\u001b[1m875/875\u001b[0m \u001b[32m━━━━━━━━━━━━━━━━━━━━\u001b[0m\u001b[37m\u001b[0m \u001b[1m0s\u001b[0m 308us/step - accuracy: 0.9561 - loss: 0.6052\n",
      "\u001b[1m219/219\u001b[0m \u001b[32m━━━━━━━━━━━━━━━━━━━━\u001b[0m\u001b[37m\u001b[0m \u001b[1m0s\u001b[0m 315us/step - accuracy: 0.9816 - loss: 0.1613\n",
      "--- Starting trial: run-4\n",
      "{'num_units': 1, 'dropout': 0.5, 'optimizer': 'adam'}\n",
      "Epoch 1/5\n",
      "\u001b[1m875/875\u001b[0m \u001b[32m━━━━━━━━━━━━━━━━━━━━\u001b[0m\u001b[37m\u001b[0m \u001b[1m1s\u001b[0m 306us/step - accuracy: 0.8008 - loss: 2.5086\n",
      "Epoch 2/5\n",
      "\u001b[1m875/875\u001b[0m \u001b[32m━━━━━━━━━━━━━━━━━━━━\u001b[0m\u001b[37m\u001b[0m \u001b[1m0s\u001b[0m 293us/step - accuracy: 0.8180 - loss: 2.2463\n",
      "Epoch 3/5\n",
      "\u001b[1m875/875\u001b[0m \u001b[32m━━━━━━━━━━━━━━━━━━━━\u001b[0m\u001b[37m\u001b[0m \u001b[1m0s\u001b[0m 296us/step - accuracy: 0.8425 - loss: 1.9348\n",
      "Epoch 4/5\n",
      "\u001b[1m875/875\u001b[0m \u001b[32m━━━━━━━━━━━━━━━━━━━━\u001b[0m\u001b[37m\u001b[0m \u001b[1m0s\u001b[0m 313us/step - accuracy: 0.8788 - loss: 1.5646\n",
      "Epoch 5/5\n",
      "\u001b[1m875/875\u001b[0m \u001b[32m━━━━━━━━━━━━━━━━━━━━\u001b[0m\u001b[37m\u001b[0m \u001b[1m0s\u001b[0m 297us/step - accuracy: 0.8821 - loss: 1.5472\n",
      "\u001b[1m219/219\u001b[0m \u001b[32m━━━━━━━━━━━━━━━━━━━━\u001b[0m\u001b[37m\u001b[0m \u001b[1m0s\u001b[0m 266us/step - accuracy: 0.9312 - loss: 0.6005\n",
      "--- Starting trial: run-5\n",
      "{'num_units': 1, 'dropout': 0.5, 'optimizer': 'sgd'}\n",
      "Epoch 1/5\n",
      "\u001b[1m875/875\u001b[0m \u001b[32m━━━━━━━━━━━━━━━━━━━━\u001b[0m\u001b[37m\u001b[0m \u001b[1m0s\u001b[0m 284us/step - accuracy: 0.8587 - loss: 2.2781\n",
      "Epoch 2/5\n",
      "\u001b[1m875/875\u001b[0m \u001b[32m━━━━━━━━━━━━━━━━━━━━\u001b[0m\u001b[37m\u001b[0m \u001b[1m0s\u001b[0m 275us/step - accuracy: 0.8536 - loss: 2.3591\n",
      "Epoch 3/5\n",
      "\u001b[1m875/875\u001b[0m \u001b[32m━━━━━━━━━━━━━━━━━━━━\u001b[0m\u001b[37m\u001b[0m \u001b[1m0s\u001b[0m 304us/step - accuracy: 0.8557 - loss: 2.3260\n",
      "Epoch 4/5\n",
      "\u001b[1m875/875\u001b[0m \u001b[32m━━━━━━━━━━━━━━━━━━━━\u001b[0m\u001b[37m\u001b[0m \u001b[1m0s\u001b[0m 262us/step - accuracy: 0.8555 - loss: 2.3287\n",
      "Epoch 5/5\n",
      "\u001b[1m875/875\u001b[0m \u001b[32m━━━━━━━━━━━━━━━━━━━━\u001b[0m\u001b[37m\u001b[0m \u001b[1m0s\u001b[0m 260us/step - accuracy: 0.8580 - loss: 2.2880\n",
      "\u001b[1m219/219\u001b[0m \u001b[32m━━━━━━━━━━━━━━━━━━━━\u001b[0m\u001b[37m\u001b[0m \u001b[1m0s\u001b[0m 262us/step - accuracy: 0.8687 - loss: 2.1163\n",
      "--- Starting trial: run-6\n",
      "{'num_units': 5, 'dropout': 0.1, 'optimizer': 'adam'}\n",
      "Epoch 1/5\n",
      "\u001b[1m875/875\u001b[0m \u001b[32m━━━━━━━━━━━━━━━━━━━━\u001b[0m\u001b[37m\u001b[0m \u001b[1m1s\u001b[0m 308us/step - accuracy: 0.8321 - loss: 0.8972\n",
      "Epoch 2/5\n",
      "\u001b[1m875/875\u001b[0m \u001b[32m━━━━━━━━━━━━━━━━━━━━\u001b[0m\u001b[37m\u001b[0m \u001b[1m0s\u001b[0m 301us/step - accuracy: 0.9419 - loss: 0.4672\n",
      "Epoch 3/5\n",
      "\u001b[1m875/875\u001b[0m \u001b[32m━━━━━━━━━━━━━━━━━━━━\u001b[0m\u001b[37m\u001b[0m \u001b[1m0s\u001b[0m 300us/step - accuracy: 0.9486 - loss: 0.4260\n",
      "Epoch 4/5\n",
      "\u001b[1m875/875\u001b[0m \u001b[32m━━━━━━━━━━━━━━━━━━━━\u001b[0m\u001b[37m\u001b[0m \u001b[1m0s\u001b[0m 305us/step - accuracy: 0.9512 - loss: 0.4216\n",
      "Epoch 5/5\n",
      "\u001b[1m875/875\u001b[0m \u001b[32m━━━━━━━━━━━━━━━━━━━━\u001b[0m\u001b[37m\u001b[0m \u001b[1m0s\u001b[0m 310us/step - accuracy: 0.9581 - loss: 0.4005\n",
      "\u001b[1m219/219\u001b[0m \u001b[32m━━━━━━━━━━━━━━━━━━━━\u001b[0m\u001b[37m\u001b[0m \u001b[1m0s\u001b[0m 263us/step - accuracy: 0.9612 - loss: 0.1852\n",
      "--- Starting trial: run-7\n",
      "{'num_units': 5, 'dropout': 0.1, 'optimizer': 'sgd'}\n",
      "Epoch 1/5\n",
      "\u001b[1m875/875\u001b[0m \u001b[32m━━━━━━━━━━━━━━━━━━━━\u001b[0m\u001b[37m\u001b[0m \u001b[1m0s\u001b[0m 266us/step - accuracy: 0.9589 - loss: 0.2175\n",
      "Epoch 2/5\n",
      "\u001b[1m875/875\u001b[0m \u001b[32m━━━━━━━━━━━━━━━━━━━━\u001b[0m\u001b[37m\u001b[0m \u001b[1m0s\u001b[0m 269us/step - accuracy: 0.9736 - loss: 0.1896\n",
      "Epoch 3/5\n",
      "\u001b[1m875/875\u001b[0m \u001b[32m━━━━━━━━━━━━━━━━━━━━\u001b[0m\u001b[37m\u001b[0m \u001b[1m0s\u001b[0m 271us/step - accuracy: 0.9778 - loss: 0.1627\n",
      "Epoch 4/5\n",
      "\u001b[1m875/875\u001b[0m \u001b[32m━━━━━━━━━━━━━━━━━━━━\u001b[0m\u001b[37m\u001b[0m \u001b[1m0s\u001b[0m 269us/step - accuracy: 0.7240 - loss: 4.2768\n",
      "Epoch 5/5\n",
      "\u001b[1m875/875\u001b[0m \u001b[32m━━━━━━━━━━━━━━━━━━━━\u001b[0m\u001b[37m\u001b[0m \u001b[1m0s\u001b[0m 267us/step - accuracy: 0.1457 - loss: 13.6162\n",
      "\u001b[1m219/219\u001b[0m \u001b[32m━━━━━━━━━━━━━━━━━━━━\u001b[0m\u001b[37m\u001b[0m \u001b[1m0s\u001b[0m 272us/step - accuracy: 0.1314 - loss: 13.8482\n",
      "--- Starting trial: run-8\n",
      "{'num_units': 5, 'dropout': 0.2, 'optimizer': 'adam'}\n",
      "Epoch 1/5\n",
      "\u001b[1m875/875\u001b[0m \u001b[32m━━━━━━━━━━━━━━━━━━━━\u001b[0m\u001b[37m\u001b[0m \u001b[1m1s\u001b[0m 306us/step - accuracy: 0.8466 - loss: 1.4028\n",
      "Epoch 2/5\n",
      "\u001b[1m875/875\u001b[0m \u001b[32m━━━━━━━━━━━━━━━━━━━━\u001b[0m\u001b[37m\u001b[0m \u001b[1m0s\u001b[0m 301us/step - accuracy: 0.9052 - loss: 0.6581\n",
      "Epoch 3/5\n",
      "\u001b[1m875/875\u001b[0m \u001b[32m━━━━━━━━━━━━━━━━━━━━\u001b[0m\u001b[37m\u001b[0m \u001b[1m0s\u001b[0m 296us/step - accuracy: 0.9211 - loss: 0.5111\n",
      "Epoch 4/5\n",
      "\u001b[1m875/875\u001b[0m \u001b[32m━━━━━━━━━━━━━━━━━━━━\u001b[0m\u001b[37m\u001b[0m \u001b[1m0s\u001b[0m 303us/step - accuracy: 0.9309 - loss: 0.3583\n",
      "Epoch 5/5\n",
      "\u001b[1m875/875\u001b[0m \u001b[32m━━━━━━━━━━━━━━━━━━━━\u001b[0m\u001b[37m\u001b[0m \u001b[1m0s\u001b[0m 297us/step - accuracy: 0.9332 - loss: 0.3535\n",
      "\u001b[1m219/219\u001b[0m \u001b[32m━━━━━━━━━━━━━━━━━━━━\u001b[0m\u001b[37m\u001b[0m \u001b[1m0s\u001b[0m 268us/step - accuracy: 0.9759 - loss: 0.2021\n",
      "--- Starting trial: run-9\n",
      "{'num_units': 5, 'dropout': 0.2, 'optimizer': 'sgd'}\n",
      "Epoch 1/5\n",
      "\u001b[1m875/875\u001b[0m \u001b[32m━━━━━━━━━━━━━━━━━━━━\u001b[0m\u001b[37m\u001b[0m \u001b[1m0s\u001b[0m 265us/step - accuracy: 0.8512 - loss: 2.3291\n",
      "Epoch 2/5\n",
      "\u001b[1m875/875\u001b[0m \u001b[32m━━━━━━━━━━━━━━━━━━━━\u001b[0m\u001b[37m\u001b[0m \u001b[1m0s\u001b[0m 259us/step - accuracy: 0.8530 - loss: 2.3660\n",
      "Epoch 3/5\n",
      "\u001b[1m875/875\u001b[0m \u001b[32m━━━━━━━━━━━━━━━━━━━━\u001b[0m\u001b[37m\u001b[0m \u001b[1m0s\u001b[0m 264us/step - accuracy: 0.8551 - loss: 2.3347\n",
      "Epoch 4/5\n",
      "\u001b[1m875/875\u001b[0m \u001b[32m━━━━━━━━━━━━━━━━━━━━\u001b[0m\u001b[37m\u001b[0m \u001b[1m0s\u001b[0m 280us/step - accuracy: 0.8548 - loss: 2.3411\n",
      "Epoch 5/5\n",
      "\u001b[1m875/875\u001b[0m \u001b[32m━━━━━━━━━━━━━━━━━━━━\u001b[0m\u001b[37m\u001b[0m \u001b[1m0s\u001b[0m 260us/step - accuracy: 0.8546 - loss: 2.3433\n",
      "\u001b[1m219/219\u001b[0m \u001b[32m━━━━━━━━━━━━━━━━━━━━\u001b[0m\u001b[37m\u001b[0m \u001b[1m0s\u001b[0m 308us/step - accuracy: 0.8687 - loss: 2.1163\n",
      "--- Starting trial: run-10\n",
      "{'num_units': 5, 'dropout': 0.5, 'optimizer': 'adam'}\n",
      "Epoch 1/5\n",
      "\u001b[1m875/875\u001b[0m \u001b[32m━━━━━━━━━━━━━━━━━━━━\u001b[0m\u001b[37m\u001b[0m \u001b[1m1s\u001b[0m 335us/step - accuracy: 0.7381 - loss: 2.9517\n",
      "Epoch 2/5\n",
      "\u001b[1m875/875\u001b[0m \u001b[32m━━━━━━━━━━━━━━━━━━━━\u001b[0m\u001b[37m\u001b[0m \u001b[1m0s\u001b[0m 330us/step - accuracy: 0.8604 - loss: 2.0774\n",
      "Epoch 3/5\n",
      "\u001b[1m875/875\u001b[0m \u001b[32m━━━━━━━━━━━━━━━━━━━━\u001b[0m\u001b[37m\u001b[0m \u001b[1m0s\u001b[0m 328us/step - accuracy: 0.9152 - loss: 0.8695\n",
      "Epoch 4/5\n",
      "\u001b[1m875/875\u001b[0m \u001b[32m━━━━━━━━━━━━━━━━━━━━\u001b[0m\u001b[37m\u001b[0m \u001b[1m0s\u001b[0m 318us/step - accuracy: 0.9303 - loss: 0.5953\n",
      "Epoch 5/5\n",
      "\u001b[1m875/875\u001b[0m \u001b[32m━━━━━━━━━━━━━━━━━━━━\u001b[0m\u001b[37m\u001b[0m \u001b[1m0s\u001b[0m 319us/step - accuracy: 0.9300 - loss: 0.4956\n",
      "\u001b[1m219/219\u001b[0m \u001b[32m━━━━━━━━━━━━━━━━━━━━\u001b[0m\u001b[37m\u001b[0m \u001b[1m0s\u001b[0m 287us/step - accuracy: 0.9786 - loss: 0.1589\n",
      "--- Starting trial: run-11\n",
      "{'num_units': 5, 'dropout': 0.5, 'optimizer': 'sgd'}\n",
      "Epoch 1/5\n",
      "\u001b[1m875/875\u001b[0m \u001b[32m━━━━━━━━━━━━━━━━━━━━\u001b[0m\u001b[37m\u001b[0m \u001b[1m0s\u001b[0m 293us/step - accuracy: 0.9229 - loss: 0.8050\n",
      "Epoch 2/5\n",
      "\u001b[1m875/875\u001b[0m \u001b[32m━━━━━━━━━━━━━━━━━━━━\u001b[0m\u001b[37m\u001b[0m \u001b[1m0s\u001b[0m 285us/step - accuracy: 0.9555 - loss: 0.2349\n",
      "Epoch 3/5\n",
      "\u001b[1m875/875\u001b[0m \u001b[32m━━━━━━━━━━━━━━━━━━━━\u001b[0m\u001b[37m\u001b[0m \u001b[1m0s\u001b[0m 283us/step - accuracy: 0.9568 - loss: 0.2110\n",
      "Epoch 4/5\n",
      "\u001b[1m875/875\u001b[0m \u001b[32m━━━━━━━━━━━━━━━━━━━━\u001b[0m\u001b[37m\u001b[0m \u001b[1m0s\u001b[0m 281us/step - accuracy: 0.9649 - loss: 0.1916\n",
      "Epoch 5/5\n",
      "\u001b[1m875/875\u001b[0m \u001b[32m━━━━━━━━━━━━━━━━━━━━\u001b[0m\u001b[37m\u001b[0m \u001b[1m0s\u001b[0m 286us/step - accuracy: 0.9654 - loss: 0.2092\n",
      "\u001b[1m219/219\u001b[0m \u001b[32m━━━━━━━━━━━━━━━━━━━━\u001b[0m\u001b[37m\u001b[0m \u001b[1m0s\u001b[0m 300us/step - accuracy: 0.9832 - loss: 0.1516\n",
      "--- Starting trial: run-12\n",
      "{'num_units': 10, 'dropout': 0.1, 'optimizer': 'adam'}\n",
      "Epoch 1/5\n",
      "\u001b[1m875/875\u001b[0m \u001b[32m━━━━━━━━━━━━━━━━━━━━\u001b[0m\u001b[37m\u001b[0m \u001b[1m1s\u001b[0m 337us/step - accuracy: 0.8676 - loss: 1.8168\n",
      "Epoch 2/5\n",
      "\u001b[1m875/875\u001b[0m \u001b[32m━━━━━━━━━━━━━━━━━━━━\u001b[0m\u001b[37m\u001b[0m \u001b[1m0s\u001b[0m 325us/step - accuracy: 0.9644 - loss: 0.2588\n",
      "Epoch 3/5\n",
      "\u001b[1m875/875\u001b[0m \u001b[32m━━━━━━━━━━━━━━━━━━━━\u001b[0m\u001b[37m\u001b[0m \u001b[1m0s\u001b[0m 317us/step - accuracy: 0.9688 - loss: 0.2281\n",
      "Epoch 4/5\n",
      "\u001b[1m875/875\u001b[0m \u001b[32m━━━━━━━━━━━━━━━━━━━━\u001b[0m\u001b[37m\u001b[0m \u001b[1m0s\u001b[0m 309us/step - accuracy: 0.9742 - loss: 0.1914\n",
      "Epoch 5/5\n",
      "\u001b[1m875/875\u001b[0m \u001b[32m━━━━━━━━━━━━━━━━━━━━\u001b[0m\u001b[37m\u001b[0m \u001b[1m0s\u001b[0m 301us/step - accuracy: 0.9733 - loss: 0.1908\n",
      "\u001b[1m219/219\u001b[0m \u001b[32m━━━━━━━━━━━━━━━━━━━━\u001b[0m\u001b[37m\u001b[0m \u001b[1m0s\u001b[0m 269us/step - accuracy: 0.9812 - loss: 0.1404\n",
      "--- Starting trial: run-13\n",
      "{'num_units': 10, 'dropout': 0.1, 'optimizer': 'sgd'}\n",
      "Epoch 1/5\n",
      "\u001b[1m875/875\u001b[0m \u001b[32m━━━━━━━━━━━━━━━━━━━━\u001b[0m\u001b[37m\u001b[0m \u001b[1m0s\u001b[0m 264us/step - accuracy: 0.9508 - loss: 0.3518\n",
      "Epoch 2/5\n",
      "\u001b[1m875/875\u001b[0m \u001b[32m━━━━━━━━━━━━━━━━━━━━\u001b[0m\u001b[37m\u001b[0m \u001b[1m0s\u001b[0m 278us/step - accuracy: 0.9751 - loss: 0.1861\n",
      "Epoch 3/5\n",
      "\u001b[1m875/875\u001b[0m \u001b[32m━━━━━━━━━━━━━━━━━━━━\u001b[0m\u001b[37m\u001b[0m \u001b[1m0s\u001b[0m 270us/step - accuracy: 0.9809 - loss: 0.1594\n",
      "Epoch 4/5\n",
      "\u001b[1m875/875\u001b[0m \u001b[32m━━━━━━━━━━━━━━━━━━━━\u001b[0m\u001b[37m\u001b[0m \u001b[1m0s\u001b[0m 264us/step - accuracy: 0.9318 - loss: 0.9320\n",
      "Epoch 5/5\n",
      "\u001b[1m875/875\u001b[0m \u001b[32m━━━━━━━━━━━━━━━━━━━━\u001b[0m\u001b[37m\u001b[0m \u001b[1m0s\u001b[0m 267us/step - accuracy: 0.1411 - loss: 13.6925\n",
      "\u001b[1m219/219\u001b[0m \u001b[32m━━━━━━━━━━━━━━━━━━━━\u001b[0m\u001b[37m\u001b[0m \u001b[1m0s\u001b[0m 281us/step - accuracy: 0.1314 - loss: 13.8482\n",
      "--- Starting trial: run-14\n",
      "{'num_units': 10, 'dropout': 0.2, 'optimizer': 'adam'}\n",
      "Epoch 1/5\n",
      "\u001b[1m875/875\u001b[0m \u001b[32m━━━━━━━━━━━━━━━━━━━━\u001b[0m\u001b[37m\u001b[0m \u001b[1m1s\u001b[0m 327us/step - accuracy: 0.9060 - loss: 0.7631\n",
      "Epoch 2/5\n",
      "\u001b[1m875/875\u001b[0m \u001b[32m━━━━━━━━━━━━━━━━━━━━\u001b[0m\u001b[37m\u001b[0m \u001b[1m0s\u001b[0m 315us/step - accuracy: 0.9588 - loss: 0.2684\n",
      "Epoch 3/5\n",
      "\u001b[1m875/875\u001b[0m \u001b[32m━━━━━━━━━━━━━━━━━━━━\u001b[0m\u001b[37m\u001b[0m \u001b[1m0s\u001b[0m 306us/step - accuracy: 0.9676 - loss: 0.2239\n",
      "Epoch 4/5\n",
      "\u001b[1m875/875\u001b[0m \u001b[32m━━━━━━━━━━━━━━━━━━━━\u001b[0m\u001b[37m\u001b[0m \u001b[1m0s\u001b[0m 303us/step - accuracy: 0.9698 - loss: 0.2026\n",
      "Epoch 5/5\n",
      "\u001b[1m875/875\u001b[0m \u001b[32m━━━━━━━━━━━━━━━━━━━━\u001b[0m\u001b[37m\u001b[0m \u001b[1m0s\u001b[0m 315us/step - accuracy: 0.9731 - loss: 0.1726\n",
      "\u001b[1m219/219\u001b[0m \u001b[32m━━━━━━━━━━━━━━━━━━━━\u001b[0m\u001b[37m\u001b[0m \u001b[1m0s\u001b[0m 282us/step - accuracy: 0.9823 - loss: 0.1676\n",
      "--- Starting trial: run-15\n",
      "{'num_units': 10, 'dropout': 0.2, 'optimizer': 'sgd'}\n",
      "Epoch 1/5\n",
      "\u001b[1m875/875\u001b[0m \u001b[32m━━━━━━━━━━━━━━━━━━━━\u001b[0m\u001b[37m\u001b[0m \u001b[1m0s\u001b[0m 275us/step - accuracy: 0.9552 - loss: 0.2442\n",
      "Epoch 2/5\n",
      "\u001b[1m875/875\u001b[0m \u001b[32m━━━━━━━━━━━━━━━━━━━━\u001b[0m\u001b[37m\u001b[0m \u001b[1m0s\u001b[0m 276us/step - accuracy: 0.9186 - loss: 1.0838\n",
      "Epoch 3/5\n",
      "\u001b[1m875/875\u001b[0m \u001b[32m━━━━━━━━━━━━━━━━━━━━\u001b[0m\u001b[37m\u001b[0m \u001b[1m0s\u001b[0m 272us/step - accuracy: 0.1415 - loss: 13.6859\n",
      "Epoch 4/5\n",
      "\u001b[1m875/875\u001b[0m \u001b[32m━━━━━━━━━━━━━━━━━━━━\u001b[0m\u001b[37m\u001b[0m \u001b[1m0s\u001b[0m 275us/step - accuracy: 0.1463 - loss: 13.6104\n",
      "Epoch 5/5\n",
      "\u001b[1m875/875\u001b[0m \u001b[32m━━━━━━━━━━━━━━━━━━━━\u001b[0m\u001b[37m\u001b[0m \u001b[1m0s\u001b[0m 271us/step - accuracy: 0.1457 - loss: 13.6188\n",
      "\u001b[1m219/219\u001b[0m \u001b[32m━━━━━━━━━━━━━━━━━━━━\u001b[0m\u001b[37m\u001b[0m \u001b[1m0s\u001b[0m 269us/step - accuracy: 0.1313 - loss: 13.8491\n",
      "--- Starting trial: run-16\n",
      "{'num_units': 10, 'dropout': 0.5, 'optimizer': 'adam'}\n",
      "Epoch 1/5\n",
      "\u001b[1m875/875\u001b[0m \u001b[32m━━━━━━━━━━━━━━━━━━━━\u001b[0m\u001b[37m\u001b[0m \u001b[1m1s\u001b[0m 310us/step - accuracy: 0.8824 - loss: 1.0240\n",
      "Epoch 2/5\n",
      "\u001b[1m875/875\u001b[0m \u001b[32m━━━━━━━━━━━━━━━━━━━━\u001b[0m\u001b[37m\u001b[0m \u001b[1m0s\u001b[0m 305us/step - accuracy: 0.9299 - loss: 0.5366\n",
      "Epoch 3/5\n",
      "\u001b[1m875/875\u001b[0m \u001b[32m━━━━━━━━━━━━━━━━━━━━\u001b[0m\u001b[37m\u001b[0m \u001b[1m0s\u001b[0m 304us/step - accuracy: 0.9487 - loss: 0.3702\n",
      "Epoch 4/5\n",
      "\u001b[1m875/875\u001b[0m \u001b[32m━━━━━━━━━━━━━━━━━━━━\u001b[0m\u001b[37m\u001b[0m \u001b[1m0s\u001b[0m 310us/step - accuracy: 0.9558 - loss: 0.3064\n",
      "Epoch 5/5\n",
      "\u001b[1m875/875\u001b[0m \u001b[32m━━━━━━━━━━━━━━━━━━━━\u001b[0m\u001b[37m\u001b[0m \u001b[1m0s\u001b[0m 314us/step - accuracy: 0.9580 - loss: 0.2934\n",
      "\u001b[1m219/219\u001b[0m \u001b[32m━━━━━━━━━━━━━━━━━━━━\u001b[0m\u001b[37m\u001b[0m \u001b[1m0s\u001b[0m 281us/step - accuracy: 0.9812 - loss: 0.1672\n",
      "--- Starting trial: run-17\n",
      "{'num_units': 10, 'dropout': 0.5, 'optimizer': 'sgd'}\n",
      "Epoch 1/5\n",
      "\u001b[1m875/875\u001b[0m \u001b[32m━━━━━━━━━━━━━━━━━━━━\u001b[0m\u001b[37m\u001b[0m \u001b[1m0s\u001b[0m 268us/step - accuracy: 0.9075 - loss: 1.0778\n",
      "Epoch 2/5\n",
      "\u001b[1m875/875\u001b[0m \u001b[32m━━━━━━━━━━━━━━━━━━━━\u001b[0m\u001b[37m\u001b[0m \u001b[1m0s\u001b[0m 267us/step - accuracy: 0.9454 - loss: 0.3005\n",
      "Epoch 3/5\n",
      "\u001b[1m875/875\u001b[0m \u001b[32m━━━━━━━━━━━━━━━━━━━━\u001b[0m\u001b[37m\u001b[0m \u001b[1m0s\u001b[0m 267us/step - accuracy: 0.9575 - loss: 0.2596\n",
      "Epoch 4/5\n",
      "\u001b[1m875/875\u001b[0m \u001b[32m━━━━━━━━━━━━━━━━━━━━\u001b[0m\u001b[37m\u001b[0m \u001b[1m0s\u001b[0m 266us/step - accuracy: 0.9617 - loss: 0.2362\n",
      "Epoch 5/5\n",
      "\u001b[1m875/875\u001b[0m \u001b[32m━━━━━━━━━━━━━━━━━━━━\u001b[0m\u001b[37m\u001b[0m \u001b[1m0s\u001b[0m 266us/step - accuracy: 0.9569 - loss: 0.2291\n",
      "\u001b[1m219/219\u001b[0m \u001b[32m━━━━━━━━━━━━━━━━━━━━\u001b[0m\u001b[37m\u001b[0m \u001b[1m0s\u001b[0m 274us/step - accuracy: 0.9835 - loss: 0.1655\n",
      "--- Starting trial: run-18\n",
      "{'num_units': 15, 'dropout': 0.1, 'optimizer': 'adam'}\n",
      "Epoch 1/5\n",
      "\u001b[1m875/875\u001b[0m \u001b[32m━━━━━━━━━━━━━━━━━━━━\u001b[0m\u001b[37m\u001b[0m \u001b[1m1s\u001b[0m 317us/step - accuracy: 0.9514 - loss: 0.2981\n",
      "Epoch 2/5\n",
      "\u001b[1m875/875\u001b[0m \u001b[32m━━━━━━━━━━━━━━━━━━━━\u001b[0m\u001b[37m\u001b[0m \u001b[1m0s\u001b[0m 316us/step - accuracy: 0.9727 - loss: 0.1672\n",
      "Epoch 3/5\n",
      "\u001b[1m875/875\u001b[0m \u001b[32m━━━━━━━━━━━━━━━━━━━━\u001b[0m\u001b[37m\u001b[0m \u001b[1m0s\u001b[0m 325us/step - accuracy: 0.9768 - loss: 0.1562\n",
      "Epoch 4/5\n",
      "\u001b[1m875/875\u001b[0m \u001b[32m━━━━━━━━━━━━━━━━━━━━\u001b[0m\u001b[37m\u001b[0m \u001b[1m0s\u001b[0m 315us/step - accuracy: 0.9791 - loss: 0.1550\n",
      "Epoch 5/5\n",
      "\u001b[1m875/875\u001b[0m \u001b[32m━━━━━━━━━━━━━━━━━━━━\u001b[0m\u001b[37m\u001b[0m \u001b[1m0s\u001b[0m 329us/step - accuracy: 0.9789 - loss: 0.1639\n",
      "\u001b[1m219/219\u001b[0m \u001b[32m━━━━━━━━━━━━━━━━━━━━\u001b[0m\u001b[37m\u001b[0m \u001b[1m0s\u001b[0m 283us/step - accuracy: 0.9837 - loss: 0.1451\n",
      "--- Starting trial: run-19\n",
      "{'num_units': 15, 'dropout': 0.1, 'optimizer': 'sgd'}\n",
      "Epoch 1/5\n",
      "\u001b[1m875/875\u001b[0m \u001b[32m━━━━━━━━━━━━━━━━━━━━\u001b[0m\u001b[37m\u001b[0m \u001b[1m0s\u001b[0m 291us/step - accuracy: 0.9467 - loss: 0.3463\n",
      "Epoch 2/5\n",
      "\u001b[1m875/875\u001b[0m \u001b[32m━━━━━━━━━━━━━━━━━━━━\u001b[0m\u001b[37m\u001b[0m \u001b[1m0s\u001b[0m 276us/step - accuracy: 0.9715 - loss: 0.2281\n",
      "Epoch 3/5\n",
      "\u001b[1m875/875\u001b[0m \u001b[32m━━━━━━━━━━━━━━━━━━━━\u001b[0m\u001b[37m\u001b[0m \u001b[1m0s\u001b[0m 290us/step - accuracy: 0.9780 - loss: 0.1717\n",
      "Epoch 4/5\n",
      "\u001b[1m875/875\u001b[0m \u001b[32m━━━━━━━━━━━━━━━━━━━━\u001b[0m\u001b[37m\u001b[0m \u001b[1m0s\u001b[0m 277us/step - accuracy: 0.9766 - loss: 0.1667\n",
      "Epoch 5/5\n",
      "\u001b[1m875/875\u001b[0m \u001b[32m━━━━━━━━━━━━━━━━━━━━\u001b[0m\u001b[37m\u001b[0m \u001b[1m0s\u001b[0m 279us/step - accuracy: 0.9754 - loss: 0.1773\n",
      "\u001b[1m219/219\u001b[0m \u001b[32m━━━━━━━━━━━━━━━━━━━━\u001b[0m\u001b[37m\u001b[0m \u001b[1m0s\u001b[0m 281us/step - accuracy: 0.9822 - loss: 0.1470\n",
      "--- Starting trial: run-20\n",
      "{'num_units': 15, 'dropout': 0.2, 'optimizer': 'adam'}\n",
      "Epoch 1/5\n",
      "\u001b[1m875/875\u001b[0m \u001b[32m━━━━━━━━━━━━━━━━━━━━\u001b[0m\u001b[37m\u001b[0m \u001b[1m1s\u001b[0m 329us/step - accuracy: 0.8554 - loss: 2.3280\n",
      "Epoch 2/5\n",
      "\u001b[1m875/875\u001b[0m \u001b[32m━━━━━━━━━━━━━━━━━━━━\u001b[0m\u001b[37m\u001b[0m \u001b[1m0s\u001b[0m 319us/step - accuracy: 0.8579 - loss: 2.2782\n",
      "Epoch 3/5\n",
      "\u001b[1m875/875\u001b[0m \u001b[32m━━━━━━━━━━━━━━━━━━━━\u001b[0m\u001b[37m\u001b[0m \u001b[1m0s\u001b[0m 322us/step - accuracy: 0.8945 - loss: 1.2089\n",
      "Epoch 4/5\n",
      "\u001b[1m875/875\u001b[0m \u001b[32m━━━━━━━━━━━━━━━━━━━━\u001b[0m\u001b[37m\u001b[0m \u001b[1m0s\u001b[0m 322us/step - accuracy: 0.9491 - loss: 0.3405\n",
      "Epoch 5/5\n",
      "\u001b[1m875/875\u001b[0m \u001b[32m━━━━━━━━━━━━━━━━━━━━\u001b[0m\u001b[37m\u001b[0m \u001b[1m0s\u001b[0m 318us/step - accuracy: 0.9617 - loss: 0.2236\n",
      "\u001b[1m219/219\u001b[0m \u001b[32m━━━━━━━━━━━━━━━━━━━━\u001b[0m\u001b[37m\u001b[0m \u001b[1m0s\u001b[0m 285us/step - accuracy: 0.9836 - loss: 0.1491\n",
      "--- Starting trial: run-21\n",
      "{'num_units': 15, 'dropout': 0.2, 'optimizer': 'sgd'}\n",
      "Epoch 1/5\n",
      "\u001b[1m875/875\u001b[0m \u001b[32m━━━━━━━━━━━━━━━━━━━━\u001b[0m\u001b[37m\u001b[0m \u001b[1m0s\u001b[0m 284us/step - accuracy: 0.9500 - loss: 0.2902\n",
      "Epoch 2/5\n",
      "\u001b[1m875/875\u001b[0m \u001b[32m━━━━━━━━━━━━━━━━━━━━\u001b[0m\u001b[37m\u001b[0m \u001b[1m0s\u001b[0m 281us/step - accuracy: 0.9481 - loss: 0.5301\n",
      "Epoch 3/5\n",
      "\u001b[1m875/875\u001b[0m \u001b[32m━━━━━━━━━━━━━━━━━━━━\u001b[0m\u001b[37m\u001b[0m \u001b[1m0s\u001b[0m 273us/step - accuracy: 0.9722 - loss: 0.1947\n",
      "Epoch 4/5\n",
      "\u001b[1m875/875\u001b[0m \u001b[32m━━━━━━━━━━━━━━━━━━━━\u001b[0m\u001b[37m\u001b[0m \u001b[1m0s\u001b[0m 277us/step - accuracy: 0.9750 - loss: 0.1917\n",
      "Epoch 5/5\n",
      "\u001b[1m875/875\u001b[0m \u001b[32m━━━━━━━━━━━━━━━━━━━━\u001b[0m\u001b[37m\u001b[0m \u001b[1m0s\u001b[0m 274us/step - accuracy: 0.9771 - loss: 0.1773\n",
      "\u001b[1m219/219\u001b[0m \u001b[32m━━━━━━━━━━━━━━━━━━━━\u001b[0m\u001b[37m\u001b[0m \u001b[1m0s\u001b[0m 284us/step - accuracy: 0.9821 - loss: 0.1517\n",
      "--- Starting trial: run-22\n",
      "{'num_units': 15, 'dropout': 0.5, 'optimizer': 'adam'}\n",
      "Epoch 1/5\n",
      "\u001b[1m875/875\u001b[0m \u001b[32m━━━━━━━━━━━━━━━━━━━━\u001b[0m\u001b[37m\u001b[0m \u001b[1m1s\u001b[0m 336us/step - accuracy: 0.9275 - loss: 0.5792\n",
      "Epoch 2/5\n",
      "\u001b[1m875/875\u001b[0m \u001b[32m━━━━━━━━━━━━━━━━━━━━\u001b[0m\u001b[37m\u001b[0m \u001b[1m0s\u001b[0m 319us/step - accuracy: 0.9553 - loss: 0.2671\n",
      "Epoch 3/5\n",
      "\u001b[1m875/875\u001b[0m \u001b[32m━━━━━━━━━━━━━━━━━━━━\u001b[0m\u001b[37m\u001b[0m \u001b[1m0s\u001b[0m 324us/step - accuracy: 0.9594 - loss: 0.2420\n",
      "Epoch 4/5\n",
      "\u001b[1m875/875\u001b[0m \u001b[32m━━━━━━━━━━━━━━━━━━━━\u001b[0m\u001b[37m\u001b[0m \u001b[1m0s\u001b[0m 377us/step - accuracy: 0.9652 - loss: 0.2050\n",
      "Epoch 5/5\n",
      "\u001b[1m875/875\u001b[0m \u001b[32m━━━━━━━━━━━━━━━━━━━━\u001b[0m\u001b[37m\u001b[0m \u001b[1m0s\u001b[0m 321us/step - accuracy: 0.9672 - loss: 0.2069\n",
      "\u001b[1m219/219\u001b[0m \u001b[32m━━━━━━━━━━━━━━━━━━━━\u001b[0m\u001b[37m\u001b[0m \u001b[1m0s\u001b[0m 286us/step - accuracy: 0.9840 - loss: 0.1429\n",
      "--- Starting trial: run-23\n",
      "{'num_units': 15, 'dropout': 0.5, 'optimizer': 'sgd'}\n",
      "Epoch 1/5\n",
      "\u001b[1m875/875\u001b[0m \u001b[32m━━━━━━━━━━━━━━━━━━━━\u001b[0m\u001b[37m\u001b[0m \u001b[1m0s\u001b[0m 293us/step - accuracy: 0.9030 - loss: 0.3778\n",
      "Epoch 2/5\n",
      "\u001b[1m875/875\u001b[0m \u001b[32m━━━━━━━━━━━━━━━━━━━━\u001b[0m\u001b[37m\u001b[0m \u001b[1m0s\u001b[0m 284us/step - accuracy: 0.9422 - loss: 0.2107\n",
      "Epoch 3/5\n",
      "\u001b[1m875/875\u001b[0m \u001b[32m━━━━━━━━━━━━━━━━━━━━\u001b[0m\u001b[37m\u001b[0m \u001b[1m0s\u001b[0m 298us/step - accuracy: 0.9473 - loss: 0.2101\n",
      "Epoch 4/5\n",
      "\u001b[1m875/875\u001b[0m \u001b[32m━━━━━━━━━━━━━━━━━━━━\u001b[0m\u001b[37m\u001b[0m \u001b[1m0s\u001b[0m 282us/step - accuracy: 0.9570 - loss: 0.2134\n",
      "Epoch 5/5\n",
      "\u001b[1m875/875\u001b[0m \u001b[32m━━━━━━━━━━━━━━━━━━━━\u001b[0m\u001b[37m\u001b[0m \u001b[1m0s\u001b[0m 282us/step - accuracy: 0.9632 - loss: 0.1953\n",
      "\u001b[1m219/219\u001b[0m \u001b[32m━━━━━━━━━━━━━━━━━━━━\u001b[0m\u001b[37m\u001b[0m \u001b[1m0s\u001b[0m 289us/step - accuracy: 0.9823 - loss: 0.1694\n",
      "--- Starting trial: run-24\n",
      "{'num_units': 20, 'dropout': 0.1, 'optimizer': 'adam'}\n",
      "Epoch 1/5\n",
      "\u001b[1m875/875\u001b[0m \u001b[32m━━━━━━━━━━━━━━━━━━━━\u001b[0m\u001b[37m\u001b[0m \u001b[1m1s\u001b[0m 328us/step - accuracy: 0.8880 - loss: 1.3835\n",
      "Epoch 2/5\n",
      "\u001b[1m875/875\u001b[0m \u001b[32m━━━━━━━━━━━━━━━━━━━━\u001b[0m\u001b[37m\u001b[0m \u001b[1m0s\u001b[0m 331us/step - accuracy: 0.9758 - loss: 0.1693\n",
      "Epoch 3/5\n",
      "\u001b[1m875/875\u001b[0m \u001b[32m━━━━━━━━━━━━━━━━━━━━\u001b[0m\u001b[37m\u001b[0m \u001b[1m0s\u001b[0m 322us/step - accuracy: 0.9795 - loss: 0.1641\n",
      "Epoch 4/5\n",
      "\u001b[1m875/875\u001b[0m \u001b[32m━━━━━━━━━━━━━━━━━━━━\u001b[0m\u001b[37m\u001b[0m \u001b[1m0s\u001b[0m 316us/step - accuracy: 0.9795 - loss: 0.1498\n",
      "Epoch 5/5\n",
      "\u001b[1m875/875\u001b[0m \u001b[32m━━━━━━━━━━━━━━━━━━━━\u001b[0m\u001b[37m\u001b[0m \u001b[1m0s\u001b[0m 320us/step - accuracy: 0.9790 - loss: 0.1717\n",
      "\u001b[1m219/219\u001b[0m \u001b[32m━━━━━━━━━━━━━━━━━━━━\u001b[0m\u001b[37m\u001b[0m \u001b[1m0s\u001b[0m 305us/step - accuracy: 0.9837 - loss: 0.1492\n",
      "--- Starting trial: run-25\n",
      "{'num_units': 20, 'dropout': 0.1, 'optimizer': 'sgd'}\n",
      "Epoch 1/5\n",
      "\u001b[1m875/875\u001b[0m \u001b[32m━━━━━━━━━━━━━━━━━━━━\u001b[0m\u001b[37m\u001b[0m \u001b[1m0s\u001b[0m 297us/step - accuracy: 0.9465 - loss: 0.3591\n",
      "Epoch 2/5\n",
      "\u001b[1m875/875\u001b[0m \u001b[32m━━━━━━━━━━━━━━━━━━━━\u001b[0m\u001b[37m\u001b[0m \u001b[1m0s\u001b[0m 282us/step - accuracy: 0.9760 - loss: 0.1557\n",
      "Epoch 3/5\n",
      "\u001b[1m875/875\u001b[0m \u001b[32m━━━━━━━━━━━━━━━━━━━━\u001b[0m\u001b[37m\u001b[0m \u001b[1m0s\u001b[0m 290us/step - accuracy: 0.9371 - loss: 0.8823\n",
      "Epoch 4/5\n",
      "\u001b[1m875/875\u001b[0m \u001b[32m━━━━━━━━━━━━━━━━━━━━\u001b[0m\u001b[37m\u001b[0m \u001b[1m0s\u001b[0m 296us/step - accuracy: 0.8582 - loss: 2.2854\n",
      "Epoch 5/5\n",
      "\u001b[1m875/875\u001b[0m \u001b[32m━━━━━━━━━━━━━━━━━━━━\u001b[0m\u001b[37m\u001b[0m \u001b[1m0s\u001b[0m 282us/step - accuracy: 0.8520 - loss: 2.3848\n",
      "\u001b[1m219/219\u001b[0m \u001b[32m━━━━━━━━━━━━━━━━━━━━\u001b[0m\u001b[37m\u001b[0m \u001b[1m0s\u001b[0m 293us/step - accuracy: 0.8687 - loss: 2.1163\n",
      "--- Starting trial: run-26\n",
      "{'num_units': 20, 'dropout': 0.2, 'optimizer': 'adam'}\n",
      "Epoch 1/5\n",
      "\u001b[1m875/875\u001b[0m \u001b[32m━━━━━━━━━━━━━━━━━━━━\u001b[0m\u001b[37m\u001b[0m \u001b[1m1s\u001b[0m 331us/step - accuracy: 0.9172 - loss: 0.7092\n",
      "Epoch 2/5\n",
      "\u001b[1m875/875\u001b[0m \u001b[32m━━━━━━━━━━━━━━━━━━━━\u001b[0m\u001b[37m\u001b[0m \u001b[1m0s\u001b[0m 315us/step - accuracy: 0.9643 - loss: 0.2182\n",
      "Epoch 3/5\n",
      "\u001b[1m875/875\u001b[0m \u001b[32m━━━━━━━━━━━━━━━━━━━━\u001b[0m\u001b[37m\u001b[0m \u001b[1m0s\u001b[0m 327us/step - accuracy: 0.9707 - loss: 0.1905\n",
      "Epoch 4/5\n",
      "\u001b[1m875/875\u001b[0m \u001b[32m━━━━━━━━━━━━━━━━━━━━\u001b[0m\u001b[37m\u001b[0m \u001b[1m0s\u001b[0m 320us/step - accuracy: 0.9741 - loss: 0.1579\n",
      "Epoch 5/5\n",
      "\u001b[1m875/875\u001b[0m \u001b[32m━━━━━━━━━━━━━━━━━━━━\u001b[0m\u001b[37m\u001b[0m \u001b[1m0s\u001b[0m 322us/step - accuracy: 0.9762 - loss: 0.1442\n",
      "\u001b[1m219/219\u001b[0m \u001b[32m━━━━━━━━━━━━━━━━━━━━\u001b[0m\u001b[37m\u001b[0m \u001b[1m0s\u001b[0m 290us/step - accuracy: 0.9817 - loss: 0.1441\n",
      "--- Starting trial: run-27\n",
      "{'num_units': 20, 'dropout': 0.2, 'optimizer': 'sgd'}\n",
      "Epoch 1/5\n",
      "\u001b[1m875/875\u001b[0m \u001b[32m━━━━━━━━━━━━━━━━━━━━\u001b[0m\u001b[37m\u001b[0m \u001b[1m0s\u001b[0m 301us/step - accuracy: 0.9574 - loss: 0.2450\n",
      "Epoch 2/5\n",
      "\u001b[1m875/875\u001b[0m \u001b[32m━━━━━━━━━━━━━━━━━━━━\u001b[0m\u001b[37m\u001b[0m \u001b[1m0s\u001b[0m 300us/step - accuracy: 0.4715 - loss: 8.3565\n",
      "Epoch 3/5\n",
      "\u001b[1m875/875\u001b[0m \u001b[32m━━━━━━━━━━━━━━━━━━━━\u001b[0m\u001b[37m\u001b[0m \u001b[1m0s\u001b[0m 302us/step - accuracy: 0.1398 - loss: 13.7138\n",
      "Epoch 4/5\n",
      "\u001b[1m875/875\u001b[0m \u001b[32m━━━━━━━━━━━━━━━━━━━━\u001b[0m\u001b[37m\u001b[0m \u001b[1m0s\u001b[0m 290us/step - accuracy: 0.1408 - loss: 13.6974\n",
      "Epoch 5/5\n",
      "\u001b[1m875/875\u001b[0m \u001b[32m━━━━━━━━━━━━━━━━━━━━\u001b[0m\u001b[37m\u001b[0m \u001b[1m0s\u001b[0m 301us/step - accuracy: 0.1426 - loss: 13.6688\n",
      "\u001b[1m219/219\u001b[0m \u001b[32m━━━━━━━━━━━━━━━━━━━━\u001b[0m\u001b[37m\u001b[0m \u001b[1m0s\u001b[0m 298us/step - accuracy: 0.1313 - loss: 13.8491\n",
      "--- Starting trial: run-28\n",
      "{'num_units': 20, 'dropout': 0.5, 'optimizer': 'adam'}\n",
      "Epoch 1/5\n",
      "\u001b[1m875/875\u001b[0m \u001b[32m━━━━━━━━━━━━━━━━━━━━\u001b[0m\u001b[37m\u001b[0m \u001b[1m1s\u001b[0m 329us/step - accuracy: 0.8619 - loss: 1.3551\n",
      "Epoch 2/5\n",
      "\u001b[1m875/875\u001b[0m \u001b[32m━━━━━━━━━━━━━━━━━━━━\u001b[0m\u001b[37m\u001b[0m \u001b[1m0s\u001b[0m 319us/step - accuracy: 0.9170 - loss: 0.6330\n",
      "Epoch 3/5\n",
      "\u001b[1m875/875\u001b[0m \u001b[32m━━━━━━━━━━━━━━━━━━━━\u001b[0m\u001b[37m\u001b[0m \u001b[1m0s\u001b[0m 327us/step - accuracy: 0.9426 - loss: 0.4074\n",
      "Epoch 4/5\n",
      "\u001b[1m875/875\u001b[0m \u001b[32m━━━━━━━━━━━━━━━━━━━━\u001b[0m\u001b[37m\u001b[0m \u001b[1m0s\u001b[0m 325us/step - accuracy: 0.9580 - loss: 0.2848\n",
      "Epoch 5/5\n",
      "\u001b[1m875/875\u001b[0m \u001b[32m━━━━━━━━━━━━━━━━━━━━\u001b[0m\u001b[37m\u001b[0m \u001b[1m0s\u001b[0m 317us/step - accuracy: 0.9613 - loss: 0.2364\n",
      "\u001b[1m219/219\u001b[0m \u001b[32m━━━━━━━━━━━━━━━━━━━━\u001b[0m\u001b[37m\u001b[0m \u001b[1m0s\u001b[0m 287us/step - accuracy: 0.9828 - loss: 0.1484\n",
      "--- Starting trial: run-29\n",
      "{'num_units': 20, 'dropout': 0.5, 'optimizer': 'sgd'}\n",
      "Epoch 1/5\n",
      "\u001b[1m875/875\u001b[0m \u001b[32m━━━━━━━━━━━━━━━━━━━━\u001b[0m\u001b[37m\u001b[0m \u001b[1m0s\u001b[0m 282us/step - accuracy: 0.9351 - loss: 0.4036\n",
      "Epoch 2/5\n",
      "\u001b[1m875/875\u001b[0m \u001b[32m━━━━━━━━━━━━━━━━━━━━\u001b[0m\u001b[37m\u001b[0m \u001b[1m0s\u001b[0m 281us/step - accuracy: 0.9590 - loss: 0.3224\n",
      "Epoch 3/5\n",
      "\u001b[1m875/875\u001b[0m \u001b[32m━━━━━━━━━━━━━━━━━━━━\u001b[0m\u001b[37m\u001b[0m \u001b[1m0s\u001b[0m 281us/step - accuracy: 0.9602 - loss: 0.3527\n",
      "Epoch 4/5\n",
      "\u001b[1m875/875\u001b[0m \u001b[32m━━━━━━━━━━━━━━━━━━━━\u001b[0m\u001b[37m\u001b[0m \u001b[1m0s\u001b[0m 284us/step - accuracy: 0.9725 - loss: 0.2378\n",
      "Epoch 5/5\n",
      "\u001b[1m875/875\u001b[0m \u001b[32m━━━━━━━━━━━━━━━━━━━━\u001b[0m\u001b[37m\u001b[0m \u001b[1m0s\u001b[0m 283us/step - accuracy: 0.9776 - loss: 0.1981\n",
      "\u001b[1m219/219\u001b[0m \u001b[32m━━━━━━━━━━━━━━━━━━━━\u001b[0m\u001b[37m\u001b[0m \u001b[1m0s\u001b[0m 287us/step - accuracy: 0.9823 - loss: 0.1618\n"
     ]
    }
   ],
   "source": [
    "session_num = 0\n",
    "\n",
    "for num_units in HP_NUM_UNITS.domain.values:\n",
    "  for dropout_rate in HP_DROPOUT.domain.values:\n",
    "    for optimizer in HP_OPTIMIZER.domain.values:\n",
    "      hparams = {\n",
    "          HP_NUM_UNITS: num_units,\n",
    "          HP_DROPOUT: dropout_rate,\n",
    "          HP_OPTIMIZER: optimizer,\n",
    "      }\n",
    "      run_name = \"run-%d\" % session_num\n",
    "      print('--- Starting trial: %s' % run_name)\n",
    "      print({h.name: hparams[h] for h in hparams})\n",
    "      run('logs/hparam_tuning/' + run_name, hparams)\n",
    "      session_num += 1"
   ]
  },
  {
   "cell_type": "code",
   "execution_count": 13,
   "id": "63fa53f3-cb82-4091-9d03-b2856851cd7a",
   "metadata": {
    "scrolled": true
   },
   "outputs": [
    {
     "data": {
      "text/html": [
       "\n",
       "      <iframe id=\"tensorboard-frame-f116f77b157a53b4\" width=\"100%\" height=\"800\" frameborder=\"0\">\n",
       "      </iframe>\n",
       "      <script>\n",
       "        (function() {\n",
       "          const frame = document.getElementById(\"tensorboard-frame-f116f77b157a53b4\");\n",
       "          const url = new URL(\"/\", window.location);\n",
       "          const port = 6006;\n",
       "          if (port) {\n",
       "            url.port = port;\n",
       "          }\n",
       "          frame.src = url;\n",
       "        })();\n",
       "      </script>\n",
       "    "
      ],
      "text/plain": [
       "<IPython.core.display.HTML object>"
      ]
     },
     "metadata": {},
     "output_type": "display_data"
    }
   ],
   "source": [
    "%tensorboard --logdir logs/hparam_tuning"
   ]
  },
  {
   "cell_type": "markdown",
   "id": "e9d5d19f-d617-4116-a190-3964891f166b",
   "metadata": {},
   "source": [
    "The best parameter set based on the accuracy is:"
   ]
  },
  {
   "cell_type": "code",
   "execution_count": 14,
   "id": "c13f0b1d-046f-474b-a3e5-5225b70c1631",
   "metadata": {},
   "outputs": [],
   "source": [
    "tuned_num_units = 15\n",
    "tuned_dropout = 0.1\n",
    "tuned_optimizer = tf.keras.optimizers.Adam(learning_rate=0.001)\n",
    "\n",
    "# Here other parameters thta I will try:\n",
    "act_func = 'relu'\n",
    "loss_function = keras.losses.BinaryCrossentropy()\n",
    "metrics = [tf.keras.metrics.BinaryAccuracy(name='binary accuracy'),\n",
    "           #tf.keras.metrics.FBetaScore(beta = 1.0, name = 'f1_score', threshold=0.5),\n",
    "           tf.keras.metrics.Precision(name='precision'),\n",
    "           tf.keras.metrics.Recall(name = 'recall'),\n",
    "           tf.keras.metrics.TrueNegatives(name = 'tn'),\n",
    "           tf.keras.metrics.TruePositives(name = 'tp')\n",
    "          ]\n",
    "           "
   ]
  },
  {
   "cell_type": "markdown",
   "id": "8be3f701-a62d-4f78-bac1-d4fcefb23077",
   "metadata": {},
   "source": [
    "I can apply this optimized model on my problem of Quasars. First of all, I define my tuned model"
   ]
  },
  {
   "cell_type": "code",
   "execution_count": 17,
   "id": "a9dae94a-82bf-4042-ad04-676bc51e9574",
   "metadata": {},
   "outputs": [],
   "source": [
    "def tuned_model (metrics, optimizer, units, t_dropout, loss_function, act_func):\n",
    "\n",
    "    model = tf.keras.models.Sequential([\n",
    "    tf.keras.layers.InputLayer(shape = (x_train.shape[-1],), name = 'layers_flatten'),\n",
    "    tf.keras.layers.Dense(units, activation = act_func , name = 'layers_dense'),\n",
    "    tf.keras.layers.Dropout(t_dropout, name = 'layers_dropout'),\n",
    "    tf.keras.layers.Dense(1, activation = act_func, name = 'layers_out')\n",
    "    ])\n",
    "\n",
    "    model.compile(optimizer = optimizer,\n",
    "                  loss = loss_function,\n",
    "                  metrics = metrics)\n",
    "\n",
    "    return model"
   ]
  },
  {
   "cell_type": "code",
   "execution_count": 18,
   "id": "c835e7c7-b9e5-4e7d-b70f-09a7b24bce65",
   "metadata": {},
   "outputs": [
    {
     "data": {
      "text/html": [
       "<pre style=\"white-space:pre;overflow-x:auto;line-height:normal;font-family:Menlo,'DejaVu Sans Mono',consolas,'Courier New',monospace\"><span style=\"font-weight: bold\">Model: \"sequential_32\"</span>\n",
       "</pre>\n"
      ],
      "text/plain": [
       "\u001b[1mModel: \"sequential_32\"\u001b[0m\n"
      ]
     },
     "metadata": {},
     "output_type": "display_data"
    },
    {
     "data": {
      "text/html": [
       "<pre style=\"white-space:pre;overflow-x:auto;line-height:normal;font-family:Menlo,'DejaVu Sans Mono',consolas,'Courier New',monospace\">┏━━━━━━━━━━━━━━━━━━━━━━━━━━━━━━━━━┳━━━━━━━━━━━━━━━━━━━━━━━━┳━━━━━━━━━━━━━━━┓\n",
       "┃<span style=\"font-weight: bold\"> Layer (type)                    </span>┃<span style=\"font-weight: bold\"> Output Shape           </span>┃<span style=\"font-weight: bold\">       Param # </span>┃\n",
       "┡━━━━━━━━━━━━━━━━━━━━━━━━━━━━━━━━━╇━━━━━━━━━━━━━━━━━━━━━━━━╇━━━━━━━━━━━━━━━┩\n",
       "│ layers_dense (<span style=\"color: #0087ff; text-decoration-color: #0087ff\">Dense</span>)            │ (<span style=\"color: #00d7ff; text-decoration-color: #00d7ff\">None</span>, <span style=\"color: #00af00; text-decoration-color: #00af00\">15</span>)             │            <span style=\"color: #00af00; text-decoration-color: #00af00\">75</span> │\n",
       "├─────────────────────────────────┼────────────────────────┼───────────────┤\n",
       "│ layers_dropout (<span style=\"color: #0087ff; text-decoration-color: #0087ff\">Dropout</span>)        │ (<span style=\"color: #00d7ff; text-decoration-color: #00d7ff\">None</span>, <span style=\"color: #00af00; text-decoration-color: #00af00\">15</span>)             │             <span style=\"color: #00af00; text-decoration-color: #00af00\">0</span> │\n",
       "├─────────────────────────────────┼────────────────────────┼───────────────┤\n",
       "│ layers_out (<span style=\"color: #0087ff; text-decoration-color: #0087ff\">Dense</span>)              │ (<span style=\"color: #00d7ff; text-decoration-color: #00d7ff\">None</span>, <span style=\"color: #00af00; text-decoration-color: #00af00\">1</span>)              │            <span style=\"color: #00af00; text-decoration-color: #00af00\">16</span> │\n",
       "└─────────────────────────────────┴────────────────────────┴───────────────┘\n",
       "</pre>\n"
      ],
      "text/plain": [
       "┏━━━━━━━━━━━━━━━━━━━━━━━━━━━━━━━━━┳━━━━━━━━━━━━━━━━━━━━━━━━┳━━━━━━━━━━━━━━━┓\n",
       "┃\u001b[1m \u001b[0m\u001b[1mLayer (type)                   \u001b[0m\u001b[1m \u001b[0m┃\u001b[1m \u001b[0m\u001b[1mOutput Shape          \u001b[0m\u001b[1m \u001b[0m┃\u001b[1m \u001b[0m\u001b[1m      Param #\u001b[0m\u001b[1m \u001b[0m┃\n",
       "┡━━━━━━━━━━━━━━━━━━━━━━━━━━━━━━━━━╇━━━━━━━━━━━━━━━━━━━━━━━━╇━━━━━━━━━━━━━━━┩\n",
       "│ layers_dense (\u001b[38;5;33mDense\u001b[0m)            │ (\u001b[38;5;45mNone\u001b[0m, \u001b[38;5;34m15\u001b[0m)             │            \u001b[38;5;34m75\u001b[0m │\n",
       "├─────────────────────────────────┼────────────────────────┼───────────────┤\n",
       "│ layers_dropout (\u001b[38;5;33mDropout\u001b[0m)        │ (\u001b[38;5;45mNone\u001b[0m, \u001b[38;5;34m15\u001b[0m)             │             \u001b[38;5;34m0\u001b[0m │\n",
       "├─────────────────────────────────┼────────────────────────┼───────────────┤\n",
       "│ layers_out (\u001b[38;5;33mDense\u001b[0m)              │ (\u001b[38;5;45mNone\u001b[0m, \u001b[38;5;34m1\u001b[0m)              │            \u001b[38;5;34m16\u001b[0m │\n",
       "└─────────────────────────────────┴────────────────────────┴───────────────┘\n"
      ]
     },
     "metadata": {},
     "output_type": "display_data"
    },
    {
     "data": {
      "text/html": [
       "<pre style=\"white-space:pre;overflow-x:auto;line-height:normal;font-family:Menlo,'DejaVu Sans Mono',consolas,'Courier New',monospace\"><span style=\"font-weight: bold\"> Total params: </span><span style=\"color: #00af00; text-decoration-color: #00af00\">91</span> (364.00 B)\n",
       "</pre>\n"
      ],
      "text/plain": [
       "\u001b[1m Total params: \u001b[0m\u001b[38;5;34m91\u001b[0m (364.00 B)\n"
      ]
     },
     "metadata": {},
     "output_type": "display_data"
    },
    {
     "data": {
      "text/html": [
       "<pre style=\"white-space:pre;overflow-x:auto;line-height:normal;font-family:Menlo,'DejaVu Sans Mono',consolas,'Courier New',monospace\"><span style=\"font-weight: bold\"> Trainable params: </span><span style=\"color: #00af00; text-decoration-color: #00af00\">91</span> (364.00 B)\n",
       "</pre>\n"
      ],
      "text/plain": [
       "\u001b[1m Trainable params: \u001b[0m\u001b[38;5;34m91\u001b[0m (364.00 B)\n"
      ]
     },
     "metadata": {},
     "output_type": "display_data"
    },
    {
     "data": {
      "text/html": [
       "<pre style=\"white-space:pre;overflow-x:auto;line-height:normal;font-family:Menlo,'DejaVu Sans Mono',consolas,'Courier New',monospace\"><span style=\"font-weight: bold\"> Non-trainable params: </span><span style=\"color: #00af00; text-decoration-color: #00af00\">0</span> (0.00 B)\n",
       "</pre>\n"
      ],
      "text/plain": [
       "\u001b[1m Non-trainable params: \u001b[0m\u001b[38;5;34m0\u001b[0m (0.00 B)\n"
      ]
     },
     "metadata": {},
     "output_type": "display_data"
    }
   ],
   "source": [
    "t_model = tuned_model(metrics, tuned_optimizer, tuned_num_units, tuned_dropout, loss_function, act_func)\n",
    "t_model.summary()"
   ]
  },
  {
   "cell_type": "markdown",
   "id": "ae3d2569-33ce-47ae-9dee-951fc186aa81",
   "metadata": {},
   "source": [
    "Here I train the model using 20 epochs"
   ]
  },
  {
   "cell_type": "code",
   "execution_count": 19,
   "id": "325d041b-95c8-4a7b-9332-a33f4bcb570b",
   "metadata": {
    "scrolled": true
   },
   "outputs": [
    {
     "name": "stdout",
     "output_type": "stream",
     "text": [
      "Epoch 1/20\n",
      "\u001b[1m875/875\u001b[0m \u001b[32m━━━━━━━━━━━━━━━━━━━━\u001b[0m\u001b[37m\u001b[0m \u001b[1m1s\u001b[0m 702us/step - binary accuracy: 0.9218 - loss: 0.6673 - precision: 0.8458 - recall: 0.5094 - tn: 11900.2881 - tp: 1272.4155 - val_binary accuracy: 0.9819 - val_loss: 0.1348 - val_precision: 0.9382 - val_recall: 0.9274 - val_tn: 5992.0000 - val_tp: 881.0000\n",
      "Epoch 2/20\n",
      "\u001b[1m875/875\u001b[0m \u001b[32m━━━━━━━━━━━━━━━━━━━━\u001b[0m\u001b[37m\u001b[0m \u001b[1m0s\u001b[0m 447us/step - binary accuracy: 0.9768 - loss: 0.1629 - precision: 0.9388 - recall: 0.8944 - tn: 11916.9131 - tp: 1781.5776 - val_binary accuracy: 0.9816 - val_loss: 0.1383 - val_precision: 0.9438 - val_recall: 0.9189 - val_tn: 5998.0000 - val_tp: 873.0000\n",
      "Epoch 3/20\n",
      "\u001b[1m875/875\u001b[0m \u001b[32m━━━━━━━━━━━━━━━━━━━━\u001b[0m\u001b[37m\u001b[0m \u001b[1m0s\u001b[0m 425us/step - binary accuracy: 0.9761 - loss: 0.1581 - precision: 0.9299 - recall: 0.9007 - tn: 11880.3926 - tp: 1822.0879 - val_binary accuracy: 0.9819 - val_loss: 0.1329 - val_precision: 0.9439 - val_recall: 0.9211 - val_tn: 5998.0000 - val_tp: 875.0000\n",
      "Epoch 4/20\n",
      "\u001b[1m875/875\u001b[0m \u001b[32m━━━━━━━━━━━━━━━━━━━━\u001b[0m\u001b[37m\u001b[0m \u001b[1m0s\u001b[0m 438us/step - binary accuracy: 0.9803 - loss: 0.1359 - precision: 0.9469 - recall: 0.9132 - tn: 11919.7793 - tp: 1832.5320 - val_binary accuracy: 0.9827 - val_loss: 0.1357 - val_precision: 0.9530 - val_recall: 0.9179 - val_tn: 6007.0000 - val_tp: 872.0000\n",
      "Epoch 5/20\n",
      "\u001b[1m875/875\u001b[0m \u001b[32m━━━━━━━━━━━━━━━━━━━━\u001b[0m\u001b[37m\u001b[0m \u001b[1m0s\u001b[0m 444us/step - binary accuracy: 0.9796 - loss: 0.1490 - precision: 0.9490 - recall: 0.9051 - tn: 11935.3330 - tp: 1806.9486 - val_binary accuracy: 0.9843 - val_loss: 0.1329 - val_precision: 0.9667 - val_recall: 0.9158 - val_tn: 6020.0000 - val_tp: 870.0000\n",
      "Epoch 6/20\n",
      "\u001b[1m875/875\u001b[0m \u001b[32m━━━━━━━━━━━━━━━━━━━━\u001b[0m\u001b[37m\u001b[0m \u001b[1m0s\u001b[0m 438us/step - binary accuracy: 0.9786 - loss: 0.1451 - precision: 0.9367 - recall: 0.9113 - tn: 11891.0117 - tp: 1835.8927 - val_binary accuracy: 0.9840 - val_loss: 0.1388 - val_precision: 0.9505 - val_recall: 0.9305 - val_tn: 6004.0000 - val_tp: 884.0000\n",
      "Epoch 7/20\n",
      "\u001b[1m875/875\u001b[0m \u001b[32m━━━━━━━━━━━━━━━━━━━━\u001b[0m\u001b[37m\u001b[0m \u001b[1m0s\u001b[0m 432us/step - binary accuracy: 0.9810 - loss: 0.1249 - precision: 0.9442 - recall: 0.9218 - tn: 11894.2559 - tp: 1859.2786 - val_binary accuracy: 0.9839 - val_loss: 0.1332 - val_precision: 0.9554 - val_recall: 0.9242 - val_tn: 6009.0000 - val_tp: 878.0000\n",
      "Epoch 8/20\n",
      "\u001b[1m875/875\u001b[0m \u001b[32m━━━━━━━━━━━━━━━━━━━━\u001b[0m\u001b[37m\u001b[0m \u001b[1m0s\u001b[0m 427us/step - binary accuracy: 0.9811 - loss: 0.1409 - precision: 0.9522 - recall: 0.9142 - tn: 11919.8525 - tp: 1842.5365 - val_binary accuracy: 0.9831 - val_loss: 0.1306 - val_precision: 0.9492 - val_recall: 0.9253 - val_tn: 6003.0000 - val_tp: 879.0000\n",
      "Epoch 9/20\n",
      "\u001b[1m875/875\u001b[0m \u001b[32m━━━━━━━━━━━━━━━━━━━━\u001b[0m\u001b[37m\u001b[0m \u001b[1m0s\u001b[0m 454us/step - binary accuracy: 0.9792 - loss: 0.1377 - precision: 0.9417 - recall: 0.9148 - tn: 11881.7490 - tp: 1870.1028 - val_binary accuracy: 0.9830 - val_loss: 0.1297 - val_precision: 0.9482 - val_recall: 0.9253 - val_tn: 6002.0000 - val_tp: 879.0000\n",
      "Epoch 10/20\n",
      "\u001b[1m875/875\u001b[0m \u001b[32m━━━━━━━━━━━━━━━━━━━━\u001b[0m\u001b[37m\u001b[0m \u001b[1m0s\u001b[0m 465us/step - binary accuracy: 0.9803 - loss: 0.1477 - precision: 0.9489 - recall: 0.9178 - tn: 11894.1738 - tp: 1871.8071 - val_binary accuracy: 0.9833 - val_loss: 0.1217 - val_precision: 0.9522 - val_recall: 0.9232 - val_tn: 6006.0000 - val_tp: 877.0000\n",
      "Epoch 11/20\n",
      "\u001b[1m875/875\u001b[0m \u001b[32m━━━━━━━━━━━━━━━━━━━━\u001b[0m\u001b[37m\u001b[0m \u001b[1m0s\u001b[0m 463us/step - binary accuracy: 0.9805 - loss: 0.1409 - precision: 0.9484 - recall: 0.9164 - tn: 11900.1553 - tp: 1866.4418 - val_binary accuracy: 0.9834 - val_loss: 0.1269 - val_precision: 0.9542 - val_recall: 0.9221 - val_tn: 6008.0000 - val_tp: 876.0000\n",
      "Epoch 12/20\n",
      "\u001b[1m875/875\u001b[0m \u001b[32m━━━━━━━━━━━━━━━━━━━━\u001b[0m\u001b[37m\u001b[0m \u001b[1m0s\u001b[0m 464us/step - binary accuracy: 0.9814 - loss: 0.1354 - precision: 0.9478 - recall: 0.9217 - tn: 11902.9775 - tp: 1872.4657 - val_binary accuracy: 0.9834 - val_loss: 0.1311 - val_precision: 0.9494 - val_recall: 0.9274 - val_tn: 6003.0000 - val_tp: 881.0000\n",
      "Epoch 13/20\n",
      "\u001b[1m875/875\u001b[0m \u001b[32m━━━━━━━━━━━━━━━━━━━━\u001b[0m\u001b[37m\u001b[0m \u001b[1m0s\u001b[0m 470us/step - binary accuracy: 0.9814 - loss: 0.1320 - precision: 0.9515 - recall: 0.9197 - tn: 11908.0957 - tp: 1866.3767 - val_binary accuracy: 0.9841 - val_loss: 0.1329 - val_precision: 0.9496 - val_recall: 0.9326 - val_tn: 6003.0000 - val_tp: 886.0000\n",
      "Epoch 14/20\n",
      "\u001b[1m875/875\u001b[0m \u001b[32m━━━━━━━━━━━━━━━━━━━━\u001b[0m\u001b[37m\u001b[0m \u001b[1m0s\u001b[0m 456us/step - binary accuracy: 0.9833 - loss: 0.1342 - precision: 0.9490 - recall: 0.9336 - tn: 11911.0938 - tp: 1881.7773 - val_binary accuracy: 0.9804 - val_loss: 0.1427 - val_precision: 0.9699 - val_recall: 0.8832 - val_tn: 6024.0000 - val_tp: 839.0000\n",
      "Epoch 15/20\n",
      "\u001b[1m875/875\u001b[0m \u001b[32m━━━━━━━━━━━━━━━━━━━━\u001b[0m\u001b[37m\u001b[0m \u001b[1m0s\u001b[0m 456us/step - binary accuracy: 0.9806 - loss: 0.1362 - precision: 0.9638 - recall: 0.8999 - tn: 11936.6104 - tp: 1827.8550 - val_binary accuracy: 0.9834 - val_loss: 0.1336 - val_precision: 0.9523 - val_recall: 0.9242 - val_tn: 6006.0000 - val_tp: 878.0000\n",
      "Epoch 16/20\n",
      "\u001b[1m875/875\u001b[0m \u001b[32m━━━━━━━━━━━━━━━━━━━━\u001b[0m\u001b[37m\u001b[0m \u001b[1m0s\u001b[0m 427us/step - binary accuracy: 0.9821 - loss: 0.1321 - precision: 0.9557 - recall: 0.9204 - tn: 11915.7285 - tp: 1864.1050 - val_binary accuracy: 0.9824 - val_loss: 0.1304 - val_precision: 0.9651 - val_recall: 0.9032 - val_tn: 6019.0000 - val_tp: 858.0000\n",
      "Epoch 17/20\n",
      "\u001b[1m875/875\u001b[0m \u001b[32m━━━━━━━━━━━━━━━━━━━━\u001b[0m\u001b[37m\u001b[0m \u001b[1m0s\u001b[0m 431us/step - binary accuracy: 0.9800 - loss: 0.1441 - precision: 0.9568 - recall: 0.9036 - tn: 11936.6299 - tp: 1824.5399 - val_binary accuracy: 0.9834 - val_loss: 0.1289 - val_precision: 0.9613 - val_recall: 0.9147 - val_tn: 6015.0000 - val_tp: 869.0000\n",
      "Epoch 18/20\n",
      "\u001b[1m875/875\u001b[0m \u001b[32m━━━━━━━━━━━━━━━━━━━━\u001b[0m\u001b[37m\u001b[0m \u001b[1m0s\u001b[0m 452us/step - binary accuracy: 0.9815 - loss: 0.1237 - precision: 0.9583 - recall: 0.9117 - tn: 11935.3984 - tp: 1843.7408 - val_binary accuracy: 0.9834 - val_loss: 0.1294 - val_precision: 0.9582 - val_recall: 0.9179 - val_tn: 6012.0000 - val_tp: 872.0000\n",
      "Epoch 19/20\n",
      "\u001b[1m875/875\u001b[0m \u001b[32m━━━━━━━━━━━━━━━━━━━━\u001b[0m\u001b[37m\u001b[0m \u001b[1m0s\u001b[0m 440us/step - binary accuracy: 0.9810 - loss: 0.1330 - precision: 0.9586 - recall: 0.9080 - tn: 11928.5352 - tp: 1832.2317 - val_binary accuracy: 0.9834 - val_loss: 0.1312 - val_precision: 0.9572 - val_recall: 0.9189 - val_tn: 6011.0000 - val_tp: 873.0000\n",
      "Epoch 20/20\n",
      "\u001b[1m875/875\u001b[0m \u001b[32m━━━━━━━━━━━━━━━━━━━━\u001b[0m\u001b[37m\u001b[0m \u001b[1m0s\u001b[0m 443us/step - binary accuracy: 0.9822 - loss: 0.1398 - precision: 0.9584 - recall: 0.9179 - tn: 11910.7725 - tp: 1868.4885 - val_binary accuracy: 0.9839 - val_loss: 0.1258 - val_precision: 0.9624 - val_recall: 0.9168 - val_tn: 6016.0000 - val_tp: 871.0000\n"
     ]
    }
   ],
   "source": [
    "training_res = t_model.fit(x_train, y_train, epochs = 20, validation_data = (x_val, y_val)) "
   ]
  },
  {
   "cell_type": "markdown",
   "id": "096079d0-8567-408e-b69f-c2dfd32e126a",
   "metadata": {},
   "source": [
    "Now I'll look at the results on the test set evaluatin my model"
   ]
  },
  {
   "cell_type": "code",
   "execution_count": 20,
   "id": "cb50d0f4-2ee9-4d63-8c4e-d23d70739598",
   "metadata": {},
   "outputs": [
    {
     "name": "stdout",
     "output_type": "stream",
     "text": [
      "\u001b[1m469/469\u001b[0m \u001b[32m━━━━━━━━━━━━━━━━━━━━\u001b[0m\u001b[37m\u001b[0m \u001b[1m0s\u001b[0m 312us/step - binary accuracy: 0.9850 - loss: 0.1200 - precision: 0.9633 - recall: 0.9300 - tn: 6428.2021 - tp: 995.7277\n",
      "loss : 0.134\n",
      "compile_metrics : 0.984\n",
      "\u001b[1m469/469\u001b[0m \u001b[32m━━━━━━━━━━━━━━━━━━━━\u001b[0m\u001b[37m\u001b[0m \u001b[1m0s\u001b[0m 267us/step\n",
      "\n",
      "\n",
      "Galaxies classified as galaxies:  12765\n",
      "QSO classified as galaxies:  83\n",
      "Galaxies classified as QSO:  163\n",
      "QSO classified as QSO:  1989 \n",
      "\n"
     ]
    },
    {
     "data": {
      "image/png": "[encoded data removed]",
      "text/plain": [
       "<Figure size 640x480 with 2 Axes>"
      ]
     },
     "metadata": {},
     "output_type": "display_data"
    }
   ],
   "source": [
    "test_res = t_model.evaluate(x_test, y_test)\n",
    "\n",
    "for name, value in zip(t_model.metrics_names, test_res):\n",
    "  print(name, ': %.03f' %value)\n",
    "conf_mat = skm.confusion_matrix(y_test, t_model.predict(x_test) > 0.5)\n",
    "\n",
    "sns.heatmap(conf_mat, annot = True, fmt=\"d\")\n",
    "plt.title('Confusion matrix')\n",
    "plt.ylabel('True label')\n",
    "plt.xlabel('Predicted label')\n",
    "\n",
    "t_p, f_n, f_p, t_n = conf_mat.ravel()\n",
    "\n",
    "print('\\n')\n",
    "print('Galaxies classified as galaxies: ', t_p)\n",
    "print('QSO classified as galaxies: ', f_n)\n",
    "print('Galaxies classified as QSO: ', f_p)\n",
    "print('QSO classified as QSO: ', t_n, '\\n')"
   ]
  },
  {
   "cell_type": "code",
   "execution_count": 21,
   "id": "d6193034-232e-4992-8628-9c48b172df52",
   "metadata": {},
   "outputs": [
    {
     "name": "stdout",
     "output_type": "stream",
     "text": [
      "\u001b[1m469/469\u001b[0m \u001b[32m━━━━━━━━━━━━━━━━━━━━\u001b[0m\u001b[37m\u001b[0m \u001b[1m0s\u001b[0m 258us/step\n"
     ]
    },
    {
     "data": {
      "text/plain": [
       "Text(0, 0.5, 'Ture positive rate')"
      ]
     },
     "execution_count": 21,
     "metadata": {},
     "output_type": "execute_result"
    },
    {
     "data": {
      "image/png": "[encoded data removed]",
      "text/plain": [
       "<Figure size 640x480 with 1 Axes>"
      ]
     },
     "metadata": {},
     "output_type": "display_data"
    }
   ],
   "source": [
    "fpr, tpr, treshold = skm.roc_curve(y_test, t_model.predict(x_test))\n",
    "plt.plot(fpr, tpr)\n",
    "plt.title('ROC curve')\n",
    "plt.xlabel('False positive rate')\n",
    "plt.ylabel('Ture positive rate')"
   ]
  },
  {
   "cell_type": "markdown",
   "id": "b284a3c7-c401-40ed-a876-45569659a290",
   "metadata": {},
   "source": [
    "From the results of lecture 19, we see that is possible to obtain a good classification also without using a NN, for this problem it's not needed."
   ]
  }
 ],
 "metadata": {
  "kernelspec": {
   "display_name": "Python 3 (ipykernel)",
   "language": "python",
   "name": "python3"
  },
  "language_info": {
   "codemirror_mode": {
    "name": "ipython",
    "version": 3
   },
   "file_extension": ".py",
   "mimetype": "text/x-python",
   "name": "python",
   "nbconvert_exporter": "python",
   "pygments_lexer": "ipython3",
   "version": "3.10.14"
  }
 },
 "nbformat": 4,
 "nbformat_minor": 5
}
