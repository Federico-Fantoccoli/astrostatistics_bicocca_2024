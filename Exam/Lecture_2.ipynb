{
 "cells": [
  {
   "cell_type": "markdown",
   "id": "ac4c9bda-bc84-4589-9fe7-d93920db8bea",
   "metadata": {},
   "source": [
    "## Bayes' Theorem Example: Monty Hall Problem (or \"Deal Or No Deal\") <a class=\"anchor\" id=\"five\"></a>\n",
    "\n",
    "A very famous stats mind trick... You might have seen this already.\n",
    "\n",
    "The [Monty Hall Problem](https://en.wikipedia.org/wiki/Monty_Hall_problem) was originally posed (and solved) in a letter by Steve Selvin to the American Statistician in [1975](https://www.tandfonline.com/doi/abs/10.1080/00031305.1975.10479121). It became famous as a question from reader Craig F. Whitaker's letter quoted in Marilyn vos Savant's \"Ask Marilyn\" column in Parade magazine in 1990\n",
    "\n",
    "\n",
    "You are playing a TV game show and are shown 2 doors.  One has a car behind it, the other a goat.  What are your chances of picking the door with the car?"
   ]
  },
  {
   "cell_type": "markdown",
   "id": "e503f406-f9dd-452e-aea5-c29739799c5f",
   "metadata": {},
   "source": [
    "OK, now there are 3 doors: one with a car, two with goats.  The game show host asks you to pick a door, but not to open it yet.  Then the host opens one of the other two doors (that you did not pick) and that has a goat.  The host offers you the opportunity to switch doors.\n",
    "\n",
    "- One player decides to switch\n",
    "- Another player prefers to stay with the previous choice\n",
    " \n",
    "![https://upload.wikimedia.org/wikipedia/commons/thumb/3/3f/Monty_open_door.svg/180px-Monty_open_door.svg.png](https://upload.wikimedia.org/wikipedia/commons/thumb/3/3f/Monty_open_door.svg/180px-Monty_open_door.svg.png)\n",
    "\n",
    "- Now a third player comes in who has not seen what happened earlier. They pick a door.\n",
    "\n",
    "*Which of the three players is most likely to win?*\n",
    "\n",
    "You might know or remember the answer already... but don't think now! **Let's simulate it**. \n"
   ]
  },
  {
   "cell_type": "markdown",
   "id": "aa4c9eb7-ec50-4d7b-be10-0bd8fa2c9b59",
   "metadata": {},
   "source": [
    "## Time to get you hands dirty! Open a jupyter notebook and code it up! "
   ]
  },
  {
   "cell_type": "markdown",
   "id": "af1dc403-f6a3-4b5c-b1dc-1a6c8711371c",
   "metadata": {},
   "source": [
    "### Simulate the Monty Hall Problem\n",
    "\n",
    "- Simulate three doors, one car, and two goats.\n",
    " - Simulate three players: the switcher, the conservative, and the newcomer. \n",
    " - Record who wins.\n",
    " - Repeat it many times.\n",
    " - Which player do you want to be?\n",
    " \n",
    " - What would happen if you had 100 doors to choose from and the presenter opens 98 or them?\n",
    " \n",
    "- And what if you had $N$ doors to choose from and the presenter opens $M\\leq N-2$ of them? Study how the probability of winning changes as a function of $M$ and $N$."
   ]
  },
  {
   "cell_type": "markdown",
   "id": "4eec857d-f18b-416a-8530-7b894bae660b",
   "metadata": {},
   "source": [
    "### Pdf of the log\n",
    "1. Use `numpy` to draw $N$ (where $N$ is large...) random samples from a uniform distribution between $0.1$ and $10$, and store these samples as $x$.\n",
    "2. Use matplotlib to make a histogram of these samples.\n",
    "3. Compute the base-10 log of your array $x$, and store this as $y$.\n",
    "4. Make another histogram for $y$. Using the equation to transform probability distributions, write what the theoretical pdf of $y$ is, and overplot it onto your histogram.\n",
    "5. Compute the log of the mean of $x$ and the mean of $y$. Now compute the log of the median of $x$ and the median of $y$. \n",
    "\n",
    "You should note that the means are different, but the medians (as it is a cumulative statistic) are the same. The mean is affected by the scale of the sample values, but the median only depends on the ordering of the samples. Monotonic transformations (like taking the log) do not change the ordering of samples.\n",
    " "
   ]
  },
  {
   "cell_type": "markdown",
   "id": "15642601-e36e-4c30-9662-adfb8550d8e8",
   "metadata": {},
   "source": [
    "## Monty hall problem"
   ]
  },
  {
   "cell_type": "code",
   "execution_count": 1,
   "id": "c3bb62e7-4bf6-4429-93a8-a592ecf75cc9",
   "metadata": {},
   "outputs": [],
   "source": [
    "import numpy as np\n",
    "from random import randint\n",
    "import random as rn"
   ]
  },
  {
   "cell_type": "code",
   "execution_count": 2,
   "id": "1715be92-6c4a-467c-b91f-fb6b3ca547cf",
   "metadata": {},
   "outputs": [],
   "source": [
    "def doors_opening (doors, rem_number):\n",
    "\n",
    "    # I know that the winning door and player's door are 1 and 2, I just put \n",
    "    # them the end \n",
    "    doors = np.sort(doors)\n",
    "\n",
    "    # after the player pick a door, the presenter removes the doors requested\n",
    "    doors = doors[rem_number:]\n",
    "\n",
    "    return doors"
   ]
  },
  {
   "cell_type": "code",
   "execution_count": 3,
   "id": "ce1a910b-ac69-404e-87b0-6b47789df4a9",
   "metadata": {},
   "outputs": [
    {
     "name": "stdout",
     "output_type": "stream",
     "text": [
      "Provide the number of doors: \n"
     ]
    },
    {
     "name": "stdin",
     "output_type": "stream",
     "text": [
      " 3\n"
     ]
    },
    {
     "name": "stdout",
     "output_type": "stream",
     "text": [
      "Provide the number of games: \n"
     ]
    },
    {
     "name": "stdin",
     "output_type": "stream",
     "text": [
      " 1000\n"
     ]
    },
    {
     "name": "stdout",
     "output_type": "stream",
     "text": [
      "Provide the number of removed doors: \n"
     ]
    },
    {
     "name": "stdin",
     "output_type": "stream",
     "text": [
      " 1\n"
     ]
    }
   ],
   "source": [
    "print(\"Provide the number of doors: \")\n",
    "N = int(input())\n",
    "\n",
    "print(\"Provide the number of games: \")\n",
    "Games = int(input())\n",
    "\n",
    "print(\"Provide the number of removed doors: \")\n",
    "M = int(input())\n"
   ]
  },
  {
   "cell_type": "code",
   "execution_count": 4,
   "id": "f8f55b91-602b-44bf-bf0d-34615badb5dc",
   "metadata": {},
   "outputs": [
    {
     "name": "stdout",
     "output_type": "stream",
     "text": [
      "The game is played\n"
     ]
    }
   ],
   "source": [
    "first_player_wins = 0\n",
    "second_player_wins = 0\n",
    "third_player_wins = 0\n",
    "\n",
    "for i in range(Games):\n",
    "\n",
    "    doors = np.zeros(N)\n",
    "    winning_door = randint(0, N-1)\n",
    "    selected_door = randint(0, N-1)\n",
    "\n",
    "    doors[winning_door] = 1\n",
    "    doors[selected_door] = 2\n",
    "    \n",
    "    # ordered remaining doors: (goat ... car, choice) or maybe: (goat ... , choice and car)\n",
    "    last_doors = doors_opening(doors, M)\n",
    "\n",
    "    selected_door = len(last_doors) - 1 # last index\n",
    "    \n",
    "    if last_doors[-2] == 0: \n",
    "        winning_door = len(last_doors) - 1\n",
    "    else: \n",
    "        winning_door = len(last_doors) - 2\n",
    "        \n",
    "    # Player one:\n",
    "    # he doesn't switch the door, it's wiining probability is just the original one\n",
    "    if winning_door == selected_door:\n",
    "        first_player_wins += 1\n",
    "\n",
    "    # Player two:\n",
    "    # he switches the door with just one of the others left open:\n",
    "    new_door = randint(0, (len(last_doors) - 2)) # The last one is the first door he picked!\n",
    "    if new_door == winning_door:\n",
    "        second_player_wins += 1\n",
    "\n",
    "    # Player three:\n",
    "    # He doesn't know anything of what happen before, he just pick a door \n",
    "    # from the one left\n",
    "    third_door = randint(0, (len(last_doors) - 1))\n",
    "    if third_door == winning_door:\n",
    "        third_player_wins += 1\n",
    "\n",
    "\n",
    "print('The game is played')"
   ]
  },
  {
   "cell_type": "code",
   "execution_count": 5,
   "id": "33289ca0-a14c-43d9-bd81-4fdf3321b200",
   "metadata": {},
   "outputs": [
    {
     "name": "stdout",
     "output_type": "stream",
     "text": [
      "First player's winning probability:  0.347\n",
      "Second player's winning probability:  0.653\n",
      "Third player's winning probability:  0.479\n"
     ]
    }
   ],
   "source": [
    "print(\"First player's winning probability: \", first_player_wins/Games)\n",
    "print(\"Second player's winning probability: \", second_player_wins/Games)\n",
    "print(\"Third player's winning probability: \", third_player_wins/Games)"
   ]
  },
  {
   "cell_type": "markdown",
   "id": "977c5343-8253-42cb-b94b-0600b22bf2ed",
   "metadata": {},
   "source": [
    "# PDF of the log"
   ]
  },
  {
   "cell_type": "code",
   "execution_count": 6,
   "id": "62d395f4-7d52-4439-bb79-9ac5dd2476c3",
   "metadata": {},
   "outputs": [],
   "source": [
    "import numpy as np\n",
    "import matplotlib.pyplot as plt"
   ]
  },
  {
   "cell_type": "markdown",
   "id": "9832b0d2-9229-44f8-8bce-4780aba5dbde",
   "metadata": {},
   "source": [
    "Compute the pdf using the transformation, f is the pdf function:\n",
    "\n",
    "$$ f(y) = f(x)\\left|\\frac{dx}{dy}\\right| = \\frac{1}{x_{max}-x_{min}}\\left|10^y log(10)\\right|$$ \n",
    "\n",
    "Now I can implement it in the code"
   ]
  },
  {
   "cell_type": "code",
   "execution_count": 7,
   "id": "3c71a77d-7270-4f92-9b0c-522809981896",
   "metadata": {},
   "outputs": [
    {
     "data": {
      "image/png": "[encoded data removed]",
      "text/plain": [
       "<Figure size 640x480 with 1 Axes>"
      ]
     },
     "metadata": {},
     "output_type": "display_data"
    }
   ],
   "source": [
    "N = 100000\n",
    "\n",
    "#Sampling of the two variables\n",
    "x = np.random.uniform(0.1, 10, N)\n",
    "y = np.log10(x)\n",
    "\n",
    "#grids for drawing the PDFs\n",
    "data_grid = np.linspace(-1, 1, 10000)\n",
    "data_grid_uniform = np.linspace(0.1, 10, 10000)\n",
    "\n",
    "#PDFs\n",
    "Transf_pdf = 10**data_grid * np.log(10) * 1/(10 - 0.1)\n",
    "Uniform_pdf = np.full_like(data_grid_uniform, 1/(10 - 0.1))\n",
    "\n",
    "#Drawing the histograms\n",
    "plt.hist(x, bins = 100, density = True, color = 'g', histtype='step', label = 'Samples')\n",
    "plt.plot(data_grid_uniform, Uniform_pdf, color = 'red', label = 'PDF')\n",
    "plt.title('Uniform distribution')\n",
    "plt.ylabel('PDF(x)')\n",
    "plt.xlabel('x')\n",
    "plt.legend()\n",
    "plt.show()\n"
   ]
  },
  {
   "cell_type": "code",
   "execution_count": 8,
   "id": "3e9be0cf-3599-4da9-ae9b-065fbcafbe08",
   "metadata": {},
   "outputs": [
    {
     "data": {
      "image/png": "[encoded data removed]",
      "text/plain": [
       "<Figure size 640x480 with 1 Axes>"
      ]
     },
     "metadata": {},
     "output_type": "display_data"
    }
   ],
   "source": [
    "plt.hist(y, 100, density = True, color='g', edgecolor= 'seagreen', label = 'Samples')\n",
    "plt.title('PDF of $y = log_{10}(x)$')\n",
    "plt.ylabel('PDF(y)')\n",
    "plt.xlabel('y')\n",
    "plt.plot(data_grid, Transf_pdf, color = 'red', label = 'PDF')\n",
    "plt.legend()\n",
    "plt.show()"
   ]
  },
  {
   "cell_type": "code",
   "execution_count": 9,
   "id": "2b99f41a-2bda-49c4-99ce-66716c0203fb",
   "metadata": {},
   "outputs": [
    {
     "name": "stdout",
     "output_type": "stream",
     "text": [
      "Log of the mean of x: 0.702\n",
      "Mean of y: 0.584\n",
      "Log of the median of x: 0.699\n",
      "Median of y: 0.699\n"
     ]
    }
   ],
   "source": [
    "#Stats\n",
    "\n",
    "print('Log of the mean of x: %0.3f' %(np.log10(np.mean(x))))\n",
    "print('Mean of y: %0.3f' %(np.mean(y)))\n",
    "\n",
    "print('Log of the median of x: %0.3f' %(np.log10(np.median(x))))\n",
    "print('Median of y: %0.3f' %(np.median(y)))\n"
   ]
  },
  {
   "cell_type": "markdown",
   "id": "e34d760b-b6ea-4006-9eca-b21a33531f9d",
   "metadata": {},
   "source": [
    "# Example 2"
   ]
  },
  {
   "cell_type": "markdown",
   "id": "1c298f63-4dc9-456b-aa19-8245d4d7389b",
   "metadata": {},
   "source": [
    "I see that the median remains the same, instead the mean is changing.\n",
    "This is true only for monotonic transformations, if I try with something not monotonic between an interval, it will be something different.\n",
    "Let's use for example the function: $$ y = x^2. $$ \n",
    "The interval is [-3, 3] and x is uniform. The transformed pdf:  $$ f(y) = \\frac{1}{x_{max} - x_{min}} \\frac{1}{2} \\left| \\frac{1}{\\sqrt y} \\right| $$ "
   ]
  },
  {
   "cell_type": "code",
   "execution_count": 12,
   "id": "1e6ce077-bbe2-4209-be97-27a6bc70f1d3",
   "metadata": {},
   "outputs": [
    {
     "data": {
      "image/png": "[encoded data removed]",
      "text/plain": [
       "<Figure size 640x480 with 1 Axes>"
      ]
     },
     "metadata": {},
     "output_type": "display_data"
    }
   ],
   "source": [
    "N = 50000\n",
    "\n",
    "x = np.random.uniform(-3, 3, N)\n",
    "y = x**2\n",
    "\n",
    "# Grids\n",
    "data_grid = np.linspace(0.01, 9, 10000)\n",
    "data_grid_uniform = np.linspace(-3, 3, 10000)\n",
    "\n",
    "#PDFs\n",
    "Transf_pdf = 1/(np.sqrt(data_grid)) * 0.5 * 1/(3 + 3)\n",
    "Uniform_pdf = np.full_like(data_grid_uniform, 1/(3 + 3))\n",
    "\n",
    "plt.hist(y, 100, density = True, color='g', edgecolor= 'seagreen', label = 'Samples')\n",
    "plt.title('PDF of $y = x^2$')\n",
    "plt.ylabel('PDF(y)')\n",
    "plt.xlabel('y')\n",
    "plt.plot(data_grid, Transf_pdf, color = 'red', label = 'PDF')\n",
    "plt.legend()\n",
    "plt.show()"
   ]
  },
  {
   "cell_type": "code",
   "execution_count": 11,
   "id": "3982c394-d82c-419a-8e07-d814c88338ca",
   "metadata": {},
   "outputs": [
    {
     "name": "stdout",
     "output_type": "stream",
     "text": [
      "Square of the mean of x: 0.000\n",
      "Mean of y: 2.999\n",
      "Square of the median of x: 0.000\n",
      "Median of y: 2.247\n"
     ]
    }
   ],
   "source": [
    "print('Square of the mean of x: %0.3f' %((np.mean(x))**2))\n",
    "print('Mean of y: %0.3f' %(np.mean(y)))\n",
    "\n",
    "print('Square of the median of x: %0.3f' %((np.median(x))**2))\n",
    "print('Median of y: %0.3f' %(np.median(y)))"
   ]
  },
  {
   "cell_type": "markdown",
   "id": "8105f684-5d6f-4d0b-aa5f-054a8bdd5adb",
   "metadata": {},
   "source": [
    "Here I see that both the mean and the median change because of the transformation"
   ]
  }
 ],
 "metadata": {
  "kernelspec": {
   "display_name": "Python 3 (ipykernel)",
   "language": "python",
   "name": "python3"
  },
  "language_info": {
   "codemirror_mode": {
    "name": "ipython",
    "version": 3
   },
   "file_extension": ".py",
   "mimetype": "text/x-python",
   "name": "python",
   "nbconvert_exporter": "python",
   "pygments_lexer": "ipython3",
   "version": "3.12.4"
  }
 },
 "nbformat": 4,
 "nbformat_minor": 5
}
